{
 "cells": [
  {
   "cell_type": "markdown",
   "metadata": {},
   "source": [
    "# Compressing data with the SChunk class\n",
    "\n",
    "Although the ``NDArray`` class is the most widely used container for data in Blosc2, it (and many other containers like `C2Array`, `ProxySource`, etc.) is built on top of the `SChunk` class. The machinery of ``SChunk`` (from \"super-chunk\") is what makes it possible to easily and quickly create, append, insert, update and delete data and metadata in a these containers which inherit from the super-chunk container. Hence, it is worthwhile to learn how to use it directly. See this quick overview of the `SChunk` class in the [Python-Blosc2 documentation](../overview.html)."
   ]
  },
  {
   "cell_type": "code",
   "metadata": {
    "ExecuteTime": {
     "end_time": "2024-11-27T12:55:25.098357Z",
     "start_time": "2024-11-27T12:55:23.321953Z"
    }
   },
   "source": [
    "import numpy as np\n",
    "\n",
    "import blosc2"
   ],
   "outputs": [],
   "execution_count": 1
  },
  {
   "cell_type": "markdown",
   "metadata": {},
   "source": [
    "## Create a new SChunk instance\n",
    "\n",
    "Let's configure the parameters that are different from defaults:"
   ]
  },
  {
   "cell_type": "code",
   "metadata": {
    "ExecuteTime": {
     "end_time": "2024-11-27T12:55:25.111881Z",
     "start_time": "2024-11-27T12:55:25.105375Z"
    }
   },
   "source": [
    "cparams = blosc2.CParams(\n",
    "    codec=blosc2.Codec.BLOSCLZ,\n",
    "    typesize=4,\n",
    "    nthreads=8,\n",
    ")\n",
    "\n",
    "dparams = blosc2.DParams(\n",
    "    nthreads=16,\n",
    ")\n",
    "\n",
    "storage = blosc2.Storage(\n",
    "    contiguous=True,\n",
    "    urlpath=\"myfile.b2frame\",\n",
    "    mode=\"w\",  # create a new file\n",
    ")"
   ],
   "outputs": [],
   "execution_count": 2
  },
  {
   "cell_type": "markdown",
   "metadata": {},
   "source": [
    "Now, we can already create a SChunk instance:"
   ]
  },
  {
   "cell_type": "code",
   "metadata": {
    "ExecuteTime": {
     "end_time": "2024-11-27T12:55:25.171649Z",
     "start_time": "2024-11-27T12:55:25.160747Z"
    }
   },
   "source": [
    "schunk = blosc2.SChunk(chunksize=10_000_000, cparams=cparams, dparams=dparams, storage=storage)\n",
    "schunk"
   ],
   "outputs": [
    {
     "data": {
      "text/plain": [
       "<blosc2.schunk.SChunk at 0x10f95f4d0>"
      ]
     },
     "execution_count": 3,
     "metadata": {},
     "output_type": "execute_result"
    }
   ],
   "execution_count": 3
  },
  {
   "cell_type": "markdown",
   "metadata": {},
   "source": [
    "Great! So you have created your first super-chunk with your desired compression codec and typesize, that is going to be persistent on-disk."
   ]
  },
  {
   "cell_type": "markdown",
   "metadata": {},
   "source": [
    "## Append and read data\n",
    "\n",
    "We are going to add some data.  First, let's create the dataset (4 MB):"
   ]
  },
  {
   "cell_type": "code",
   "metadata": {
    "ExecuteTime": {
     "end_time": "2024-11-27T12:55:26.586346Z",
     "start_time": "2024-11-27T12:55:25.258232Z"
    }
   },
   "source": [
    "buffer = [i * np.arange(2_500_000, dtype=\"int32\") for i in range(100)]"
   ],
   "outputs": [],
   "execution_count": 4
  },
  {
   "cell_type": "code",
   "metadata": {
    "ExecuteTime": {
     "end_time": "2024-11-27T12:55:26.953129Z",
     "start_time": "2024-11-27T12:55:26.598550Z"
    }
   },
   "source": [
    "%%time\n",
    "for i in range(100):\n",
    "    nchunks = schunk.append_data(buffer[i])\n",
    "    assert nchunks == (i + 1)"
   ],
   "outputs": [
    {
     "name": "stdout",
     "output_type": "stream",
     "text": [
      "CPU times: user 847 ms, sys: 167 ms, total: 1.01 s\n",
      "Wall time: 349 ms\n"
     ]
    }
   ],
   "execution_count": 5
  },
  {
   "cell_type": "code",
   "metadata": {
    "ExecuteTime": {
     "end_time": "2024-11-27T12:55:27.779845Z",
     "start_time": "2024-11-27T12:55:27.004991Z"
    }
   },
   "source": [
    "!ls -lh myfile.b2frame"
   ],
   "outputs": [
    {
     "name": "stdout",
     "output_type": "stream",
     "text": [
      "-rw-r--r--  1 faltet  staff    54M Nov 27 13:55 myfile.b2frame\r\n"
     ]
    }
   ],
   "execution_count": 6
  },
  {
   "cell_type": "markdown",
   "metadata": {},
   "source": [
    "So, while we have added 100 chunks of 10 MB each, the data size of the frame on-disk is a little above 10 MB.  This is how compression is helping you to use less resources.\n",
    "\n",
    "Now, let's read the chunks from disk:"
   ]
  },
  {
   "cell_type": "code",
   "metadata": {
    "ExecuteTime": {
     "end_time": "2024-11-27T12:55:27.836808Z",
     "start_time": "2024-11-27T12:55:27.832954Z"
    }
   },
   "source": [
    "dest = np.empty(2_500_000, dtype=\"int32\")"
   ],
   "outputs": [],
   "execution_count": 7
  },
  {
   "cell_type": "code",
   "metadata": {
    "ExecuteTime": {
     "end_time": "2024-11-27T12:55:28.169650Z",
     "start_time": "2024-11-27T12:55:27.930404Z"
    }
   },
   "source": [
    "%%time\n",
    "for i in range(100):\n",
    "    chunk = schunk.decompress_chunk(i, dest)"
   ],
   "outputs": [
    {
     "name": "stdout",
     "output_type": "stream",
     "text": [
      "CPU times: user 790 ms, sys: 471 ms, total: 1.26 s\n",
      "Wall time: 235 ms\n"
     ]
    }
   ],
   "execution_count": 8
  },
  {
   "cell_type": "code",
   "metadata": {
    "ExecuteTime": {
     "end_time": "2024-11-27T12:55:28.313342Z",
     "start_time": "2024-11-27T12:55:28.189863Z"
    }
   },
   "source": [
    "check = 99 * np.arange(2_500_000, dtype=\"int32\")\n",
    "np.testing.assert_equal(dest, check)"
   ],
   "outputs": [],
   "execution_count": 9
  },
  {
   "cell_type": "markdown",
   "metadata": {},
   "source": [
    "## Updating and inserting\n",
    "\n",
    "First, let's update the first chunk:"
   ]
  },
  {
   "cell_type": "code",
   "metadata": {
    "ExecuteTime": {
     "end_time": "2024-11-27T12:55:28.385232Z",
     "start_time": "2024-11-27T12:55:28.366739Z"
    }
   },
   "source": [
    "data_up = np.arange(2_500_000, dtype=\"int32\")\n",
    "chunk = blosc2.compress2(data_up)"
   ],
   "outputs": [],
   "execution_count": 10
  },
  {
   "cell_type": "code",
   "metadata": {
    "ExecuteTime": {
     "end_time": "2024-11-27T12:55:28.396862Z",
     "start_time": "2024-11-27T12:55:28.391441Z"
    }
   },
   "source": [
    "%%time\n",
    "schunk.update_chunk(nchunk=0, chunk=chunk)"
   ],
   "outputs": [
    {
     "name": "stdout",
     "output_type": "stream",
     "text": [
      "CPU times: user 183 µs, sys: 566 µs, total: 749 µs\n",
      "Wall time: 673 µs\n"
     ]
    },
    {
     "data": {
      "text/plain": [
       "100"
      ]
     },
     "execution_count": 11,
     "metadata": {},
     "output_type": "execute_result"
    }
   ],
   "execution_count": 11
  },
  {
   "cell_type": "markdown",
   "metadata": {},
   "source": [
    "And then, insert another one at position 4:"
   ]
  },
  {
   "cell_type": "code",
   "metadata": {
    "ExecuteTime": {
     "end_time": "2024-11-27T12:55:28.540491Z",
     "start_time": "2024-11-27T12:55:28.532769Z"
    }
   },
   "source": [
    "%%time\n",
    "schunk.insert_chunk(nchunk=4, chunk=chunk)"
   ],
   "outputs": [
    {
     "name": "stdout",
     "output_type": "stream",
     "text": [
      "CPU times: user 208 µs, sys: 997 µs, total: 1.21 ms\n",
      "Wall time: 1.14 ms\n"
     ]
    },
    {
     "data": {
      "text/plain": [
       "101"
      ]
     },
     "execution_count": 12,
     "metadata": {},
     "output_type": "execute_result"
    }
   ],
   "execution_count": 12
  },
  {
   "cell_type": "markdown",
   "metadata": {},
   "source": [
    "In this case the return value is the new number of chunks in the super-chunk."
   ]
  },
  {
   "cell_type": "markdown",
   "metadata": {},
   "source": [
    "## Add user meta info\n",
    "\n",
    "In Blosc2 there are to kind of meta information that you can add to a SChunk.\n",
    "One must be added during the creation of it, cannot be deleted and must always have the same bytes size. This one is known as `meta`, and works like a dictionary."
   ]
  },
  {
   "cell_type": "code",
   "metadata": {
    "collapsed": false,
    "ExecuteTime": {
     "end_time": "2024-11-27T12:55:28.635436Z",
     "start_time": "2024-11-27T12:55:28.625436Z"
    }
   },
   "source": [
    "schunk = blosc2.SChunk(meta={\"meta1\": 234})\n",
    "schunk.meta.keys()"
   ],
   "outputs": [
    {
     "data": {
      "text/plain": [
       "['meta1']"
      ]
     },
     "execution_count": 13,
     "metadata": {},
     "output_type": "execute_result"
    }
   ],
   "execution_count": 13
  },
  {
   "cell_type": "code",
   "metadata": {
    "collapsed": false,
    "ExecuteTime": {
     "end_time": "2024-11-27T12:55:28.795691Z",
     "start_time": "2024-11-27T12:55:28.788035Z"
    }
   },
   "source": [
    "schunk.meta[\"meta1\"]"
   ],
   "outputs": [
    {
     "data": {
      "text/plain": [
       "234"
      ]
     },
     "execution_count": 14,
     "metadata": {},
     "output_type": "execute_result"
    }
   ],
   "execution_count": 14
  },
  {
   "cell_type": "code",
   "metadata": {
    "collapsed": false,
    "ExecuteTime": {
     "end_time": "2024-11-27T12:55:28.985630Z",
     "start_time": "2024-11-27T12:55:28.974216Z"
    }
   },
   "source": [
    "schunk.meta[\"meta1\"] = 235\n",
    "schunk.meta[\"meta1\"]"
   ],
   "outputs": [
    {
     "data": {
      "text/plain": [
       "235"
      ]
     },
     "execution_count": 15,
     "metadata": {},
     "output_type": "execute_result"
    }
   ],
   "execution_count": 15
  },
  {
   "cell_type": "markdown",
   "metadata": {
    "collapsed": false
   },
   "source": [
    "The other one is known as `vlmeta`, which stands for \"variable length metadata\", and, as the name suggests, it is meant to store general, variable length data (incidentally, this is more flexible than what you can store as regular data, which is always the same `typesize`). You can add an entry after the creation of the SChunk, update it with a different bytes size value or delete it.\n",
    "\n",
    "`vlmeta` follows the dictionary interface, so adding info is as easy as:"
   ]
  },
  {
   "cell_type": "code",
   "metadata": {
    "ExecuteTime": {
     "end_time": "2024-11-27T12:55:29.092667Z",
     "start_time": "2024-11-27T12:55:29.084541Z"
    }
   },
   "source": [
    "schunk.vlmeta[\"info1\"] = \"This is an example\"\n",
    "schunk.vlmeta[\"info2\"] = \"of user meta handling\"\n",
    "schunk.vlmeta.getall()"
   ],
   "outputs": [
    {
     "data": {
      "text/plain": [
       "{b'info1': 'This is an example', b'info2': 'of user meta handling'}"
      ]
     },
     "execution_count": 16,
     "metadata": {},
     "output_type": "execute_result"
    }
   ],
   "execution_count": 16
  },
  {
   "cell_type": "markdown",
   "metadata": {},
   "source": [
    "You can also delete an entry as you would do with a dictionary:"
   ]
  },
  {
   "cell_type": "code",
   "metadata": {
    "ExecuteTime": {
     "end_time": "2024-11-27T12:55:29.190945Z",
     "start_time": "2024-11-27T12:55:29.186943Z"
    }
   },
   "source": [
    "del schunk.vlmeta[\"info1\"]\n",
    "schunk.vlmeta.getall()"
   ],
   "outputs": [
    {
     "data": {
      "text/plain": [
       "{b'info2': 'of user meta handling'}"
      ]
     },
     "execution_count": 17,
     "metadata": {},
     "output_type": "execute_result"
    }
   ],
   "execution_count": 17
  },
  {
   "cell_type": "markdown",
   "metadata": {},
   "source": [
    "That's all for now.  There are more examples in the [examples directory of the git repository](https://github.com/Blosc/python-blosc2/tree/main/examples) for you to explore.  Enjoy!"
   ]
  }
 ],
 "metadata": {
  "kernelspec": {
   "display_name": "Python 3 (ipykernel)",
   "language": "python",
   "name": "python3"
  },
  "language_info": {
   "codemirror_mode": {
    "name": "ipython",
    "version": 3
   },
   "file_extension": ".py",
   "mimetype": "text/x-python",
   "name": "python",
   "nbconvert_exporter": "python",
   "pygments_lexer": "ipython3",
   "version": "3.10.4"
  }
 },
 "nbformat": 4,
 "nbformat_minor": 1
}
