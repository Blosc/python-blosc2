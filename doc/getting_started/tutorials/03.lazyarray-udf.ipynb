{
 "cells": [
  {
   "cell_type": "markdown",
   "metadata": {},
   "source": [
    "# User Defined Functions\n",
    "\n",
    "Of course, one may want to do computations which are more complex than those considered in the last tutorial (so complex that they do not fit in a single line/expression). To this end, we'll see how one can define a function and make it act like a lazy expression when it comes to computations with NDArray and/or NumPy arrays, using the Lazy User Defined Function ``LazyUDF`` object.\n"
   ]
  },
  {
   "cell_type": "code",
   "metadata": {
    "is_executing": true,
    "ExecuteTime": {
     "end_time": "2025-08-04T11:51:00.645630Z",
     "start_time": "2025-08-04T11:50:59.815878Z"
    }
   },
   "source": [
    "import time\n",
    "\n",
    "import numba as nb\n",
    "import numpy as np\n",
    "\n",
    "import blosc2"
   ],
   "outputs": [],
   "execution_count": 1
  },
  {
   "cell_type": "markdown",
   "metadata": {},
   "source": [
    "## A simple example\n",
    "First, let's create a NDArray array, a NumPy array and regular scalar, which will be the operands of our function."
   ]
  },
  {
   "cell_type": "code",
   "metadata": {
    "ExecuteTime": {
     "end_time": "2025-08-04T11:51:01.004841Z",
     "start_time": "2025-08-04T11:51:00.653637Z"
    }
   },
   "source": [
    "shape = (5_000, 2_000)\n",
    "a = np.linspace(0, 1, np.prod(shape), dtype=np.int32).reshape(shape)\n",
    "b = blosc2.arange(np.prod(shape), dtype=np.float32, shape=shape)\n",
    "s = 2.1  # a regular scalar"
   ],
   "outputs": [],
   "execution_count": 2
  },
  {
   "cell_type": "markdown",
   "metadata": {},
   "source": [
    "Now, let's define our function, which will be the executable attribute of a ``LazyUDF`` object. Internally, ``LazyUDF`` will execute the function chunkwise on the operands when requested, and will expect the function to have a signature with three parameters: 1) an inputs tuple; 2) an output buffer to be filled; and 3) the chunk offset coordinates. When the function is called by ``LazyUDF``, the inputs tuple will contain chunks of the operands, and must fill the output buffer with the computation result (which is automatically of the correct shape and dtype due to the internal mechanics of ``LazyUDF``). The offset is the coordinates of the chunk being filled in the output, which is often useful (but not always necessary). For example, if we were to write a function to fill an empty array with ones on the main diagonal chunk-by-chunk, some chunks may have all zeros, which one will be able to ascertain using the coordinates in the offset parameter (see the implementation of [``blosc2.eye``](../../reference/ndarray.html#blosc2.eye)).\n",
    "\n",
    "For the moment, we'll just write a function that does something simple with the operands and writes the result to the buffer."
   ]
  },
  {
   "cell_type": "code",
   "metadata": {
    "ExecuteTime": {
     "end_time": "2025-08-04T11:51:01.101741Z",
     "start_time": "2025-08-04T11:51:01.097265Z"
    }
   },
   "source": [
    "def myudf(inputs_tuple, output, offset):\n",
    "    x, y, s = inputs_tuple  # at this point, all are either numpy arrays or scalars\n",
    "    output[:] = x**3 + np.sin(y) + s + 1"
   ],
   "outputs": [],
   "execution_count": 3
  },
  {
   "cell_type": "markdown",
   "metadata": {},
   "source": [
    "It is important to write the result to the memory location indicated by the buffer using ``output[:] = result``, since writing ``output = result`` would merely overwrite the value of ``output``, which is just a memory address, and leave the memory at the address untouched.\n",
    "\n",
    "Now, to actually create a `LazyUDF` object (which also follows the [LazyArray interface](../../reference/lazyarray.html)) we will use its constructor `lazyudf`. As arguments, we provide: the UDF we have defined; a tuple with the operands; and the dtype of the output. The latter is important since it will be used to create the output buffer. Optionally we can provide the shape of the output, but if not the shape will be inferred from the operands."
   ]
  },
  {
   "cell_type": "code",
   "metadata": {
    "ExecuteTime": {
     "end_time": "2025-08-04T11:51:01.154177Z",
     "start_time": "2025-08-04T11:51:01.126220Z"
    }
   },
   "source": [
    "larray = blosc2.lazyudf(myudf, (a, b, s), a.dtype)\n",
    "print(f\"Type: {type(larray)}\")"
   ],
   "outputs": [
    {
     "name": "stdout",
     "output_type": "stream",
     "text": [
      "Type: <class 'blosc2.lazyexpr.LazyUDF'>\n"
     ]
    }
   ],
   "execution_count": 4
  },
  {
   "cell_type": "markdown",
   "metadata": {},
   "source": "Since the ``LazyUDF`` object implements the same ``LazyArray`` interface as ``LazyExpr``, we may execute and get the result of the function via either of the `__getitem__` (returning a NumPy array) and `compute` (returning a NDArray array) methods. Let's see `__getitem__` first, computing either a slice or the whole result:"
  },
  {
   "cell_type": "code",
   "metadata": {
    "ExecuteTime": {
     "end_time": "2025-08-04T11:51:01.393097Z",
     "start_time": "2025-08-04T11:51:01.164244Z"
    }
   },
   "source": [
    "npc = larray[:10]  # compute a slice of the result\n",
    "print(f\"Slice - Type: {type(npc)}, shape: {npc.shape}\")\n",
    "npc = larray[:]  # compute the whole result\n",
    "print(f\"Full array - Type: {type(npc)}, shape: {npc.shape}\")"
   ],
   "outputs": [
    {
     "name": "stdout",
     "output_type": "stream",
     "text": [
      "Slice - Type: <class 'numpy.ndarray'>, shape: (10, 2000)\n",
      "Full array - Type: <class 'numpy.ndarray'>, shape: (5000, 2000)\n"
     ]
    }
   ],
   "execution_count": 5
  },
  {
   "cell_type": "markdown",
   "metadata": {},
   "source": [
    "\n",
    "Now, let's use `compute` for the same purpose. The advantage of using this method is that you can pass some construction parameters for the resulting NDArray like the `urlpath` to store the resulting array on-disk, as we saw in the previous tutorial."
   ]
  },
  {
   "cell_type": "code",
   "metadata": {
    "ExecuteTime": {
     "end_time": "2025-08-04T11:51:01.603539Z",
     "start_time": "2025-08-04T11:51:01.403269Z"
    }
   },
   "source": [
    "c = larray.compute(urlpath=\"larray.b2nd\", mode=\"w\")\n",
    "print(f\"Type: {type(c)}\")\n",
    "print(c.info)\n",
    "blosc2.remove_urlpath(\"larray.b2nd\")  # clean-up"
   ],
   "outputs": [
    {
     "name": "stdout",
     "output_type": "stream",
     "text": [
      "Type: <class 'blosc2.ndarray.NDArray'>\n",
      "type    : NDArray\n",
      "shape   : (5000, 2000)\n",
      "chunks  : (625, 2000)\n",
      "blocks  : (40, 2000)\n",
      "dtype   : int32\n",
      "cratio  : 293.26\n",
      "cparams : CParams(codec=<Codec.ZSTD: 5>, codec_meta=0, clevel=1, use_dict=False, typesize=4,\n",
      "        : nthreads=10, blocksize=320000, splitmode=<SplitMode.AUTO_SPLIT: 3>,\n",
      "        : filters=[<Filter.NOFILTER: 0>, <Filter.NOFILTER: 0>, <Filter.NOFILTER: 0>,\n",
      "        : <Filter.NOFILTER: 0>, <Filter.NOFILTER: 0>, <Filter.SHUFFLE: 1>], filters_meta=[0, 0,\n",
      "        : 0, 0, 0, 0], tuner=<Tuner.STUNE: 0>)\n",
      "dparams : DParams(nthreads=10)\n",
      "\n"
     ]
    }
   ],
   "execution_count": 6
  },
  {
   "cell_type": "markdown",
   "metadata": {},
   "source": [
    "## BONUS: Using Numba\n",
    "Numba is a Just-In-Time (JIT) compiler that translates a subset of Python and NumPy code into fast machine code. It is particularly useful for numerical computations and can significantly speed up the execution of functions that are computationally intensive. Python-Blosc2 can also interface with Numba, via UDFs. It's as simple as decorating the same function as before with a Numba ``jit`` decorator."
   ]
  },
  {
   "cell_type": "code",
   "metadata": {
    "ExecuteTime": {
     "end_time": "2025-08-04T11:51:01.684087Z",
     "start_time": "2025-08-04T11:51:01.620200Z"
    }
   },
   "source": [
    "@nb.jit(nopython=True, parallel=True)\n",
    "def myudf_numba(inputs_tuple, output, offset):\n",
    "    x, y, s = inputs_tuple\n",
    "    output[:] = x**3 + np.sin(y) + s + 1\n",
    "\n",
    "\n",
    "larray_nb = blosc2.lazyudf(myudf_numba, (a, b, s), a.dtype)"
   ],
   "outputs": [],
   "execution_count": 7
  },
  {
   "cell_type": "markdown",
   "metadata": {},
   "source": "We then use the ``lazyudf`` constructor as before. Cool! Now, let's evaluate it and compare timings with the pure Python version."
  },
  {
   "cell_type": "code",
   "metadata": {
    "ExecuteTime": {
     "end_time": "2025-08-04T11:51:06.808378Z",
     "start_time": "2025-08-04T11:51:01.697185Z"
    }
   },
   "source": [
    "t1 = time.time()\n",
    "npc_nb = larray_nb[:]  # numba version\n",
    "t_nb = time.time() - t1\n",
    "\n",
    "t1 = time.time()\n",
    "npc = larray[:]  # pure python version\n",
    "t_ = time.time() - t1\n",
    "print(f\"Numba: {t_nb:.3f} seconds, pure Python: {t_:.3f} seconds\")"
   ],
   "outputs": [
    {
     "name": "stdout",
     "output_type": "stream",
     "text": [
      "Numba: 4.825 seconds, pure Python: 0.280 seconds\n"
     ]
    }
   ],
   "execution_count": 8
  },
  {
   "cell_type": "markdown",
   "metadata": {},
   "source": [
    "Incidentally, the pure Python version was faster than Numba.  This is because Numba has\n",
    "large initialization overheads and the function is quite simple.  For more complex functions, or larger arrays, the difference will be less noticeable or indeed favorable to Numba. As an exercise, check at which array size the Numba UDF starts to be competitive.  If you're a Numba pro, you may also want to unroll loops within the UDF and see whether you can make it faster."
   ]
  },
  {
   "cell_type": "markdown",
   "metadata": {},
   "source": [
    "## Summary\n",
    "\n",
    "We have seen how to build new ``LazyUDF``objects based on bespoke User Defined Functions (UDFs) to perform computations of arbitrary complexity lazily.  We have also demonstrated that integrating Numba in UDF is pretty easy."
   ]
  }
 ],
 "metadata": {
  "kernelspec": {
   "display_name": "Python 3 (ipykernel)",
   "language": "python",
   "name": "python3"
  },
  "language_info": {
   "codemirror_mode": {
    "name": "ipython",
    "version": 3
   },
   "file_extension": ".py",
   "mimetype": "text/x-python",
   "name": "python",
   "nbconvert_exporter": "python",
   "pygments_lexer": "ipython3",
   "version": "3.12.7"
  }
 },
 "nbformat": 4,
 "nbformat_minor": 4
}
