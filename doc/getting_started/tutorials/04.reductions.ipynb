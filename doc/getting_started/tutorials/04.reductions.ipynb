{
 "cells": [
  {
   "cell_type": "markdown",
   "id": "e0429f6f64aaa0ea",
   "metadata": {},
   "source": [
    "# Optimizing data reductions with NDArrays\n",
    "\n",
    "Blosc2 leverages the power of NumPy to perform operations efficiently (with minimla memory footprint and execution time) on compressed multidimensional arrays. By compressing data with Blosc2, it is possible to reduce the memory and storage space required to store large datasets, while maintaining fast access times. This is especially beneficial for systems with memory constraints, as it allows for faster data access and manipulation.\n",
    "\n",
    "In this tutorial, we will explore how Python-Blosc2 can efficiently perform a special class of particularly costly computations called *data reductions* (e.g. ``sum``, ``mean``), which are especially common in data science, by leveraging the benefits of the compression-first NDArray object. We'll also dive into further tuning the performance of these operations by using different chunk shapes, compression levels and codecs.  Finally, we will compare the performance of Python-Blosc2 with NumPy.\n",
    "\n",
    "**Note**: This tutorial assumes that you have Python, NumPy, matplotlib and Blosc2 installed on your system.  Also, this notebook has been run on a CPU (Intel 13900K) with a relatively large L3 cache (36 MB). As it turns out, performance in Blosc2 is very sensitive to the CPU cache size, and the results may vary on different CPUs."
   ]
  },
  {
   "cell_type": "markdown",
   "id": "7cecd5ce5b8085c",
   "metadata": {},
   "source": [
    "## Creating a test array\n",
    "\n",
    "First, let's create a 3D array of type float64 with axes (X, Y, Z), each of length 1000. We will perform reductions along the X, Y, and Z axes, comparing Python-Blosc2 performance (with and without compression) against NumPy."
   ]
  },
  {
   "cell_type": "code",
   "execution_count": 1,
   "id": "initial_id",
   "metadata": {
    "ExecuteTime": {
     "end_time": "2025-07-28T09:37:25.778563Z",
     "start_time": "2025-07-28T09:37:25.480050Z"
    }
   },
   "outputs": [],
   "source": [
    "from time import time\n",
    "\n",
    "import matplotlib.pyplot as plt\n",
    "import numpy as np\n",
    "\n",
    "import blosc2"
   ]
  },
  {
   "cell_type": "code",
   "execution_count": 2,
   "id": "94a5fa3aad0a9d8b",
   "metadata": {
    "ExecuteTime": {
     "end_time": "2025-07-28T09:37:26.829714Z",
     "start_time": "2025-07-28T09:37:25.839452Z"
    }
   },
   "outputs": [],
   "source": [
    "# Create a 3D array of type float64 (8 GB)\n",
    "dtype = np.float64\n",
    "shape = (1000, 1000, 1000)\n",
    "size = np.prod(shape)\n",
    "a = np.linspace(0, 1000, num=size, dtype=dtype).reshape(shape)"
   ]
  },
  {
   "cell_type": "markdown",
   "id": "557701d32c9e62bc",
   "metadata": {},
   "source": [
    "### 1) Reductions with NumPy\n",
    "\n",
    "We will start by performing different sum reductions using NumPy - summing along the X, Y, and Z axes (and getting 2D arrays as result) and then summing along all axes (and getting a scalar as result). This will provide a baseline for comparison with Blosc2."
   ]
  },
  {
   "cell_type": "code",
   "execution_count": 3,
   "id": "bbbd00951e2b16f6",
   "metadata": {
    "ExecuteTime": {
     "end_time": "2025-07-28T09:37:27.380333Z",
     "start_time": "2025-07-28T09:37:26.835642Z"
    }
   },
   "outputs": [],
   "source": [
    "axes = (\"X\", \"Y\", \"Z\", \"all\")\n",
    "meas_np = {\"sum\": {}, \"time\": {}}\n",
    "for n, axis in enumerate(axes):\n",
    "    n = n if axis != \"all\" else None\n",
    "    t0 = time()\n",
    "    meas_np[\"sum\"][axis] = np.sum(a, axis=n)\n",
    "    t = time() - t0\n",
    "    meas_np[\"time\"][axis] = time() - t0"
   ]
  },
  {
   "cell_type": "markdown",
   "id": "4731f35b9a0841e6",
   "metadata": {},
   "source": [
    "### 2) Reductions with Blosc2\n",
    "In order to test reductions in Blosc2, we will need to convert the array to the Blosc2-compatible `NDArray` type. NDArray arrays are compressed, and we can choose how this compression is done during conversion by defining compression parameters: number of threads, compression levels, codecs, and chunk sizes. We will do a grid search over different combinations of these parameters to see how it affects performance. To do this, let's write a function that runs through the different compression combinations and performs the reductions over the different axes, for a fixed chunk shape (later on we'll vary the chunk shape too)."
   ]
  },
  {
   "cell_type": "code",
   "execution_count": 4,
   "id": "92217680c72e2ae4",
   "metadata": {
    "ExecuteTime": {
     "end_time": "2025-07-28T09:37:27.388644Z",
     "start_time": "2025-07-28T09:37:27.386089Z"
    }
   },
   "outputs": [],
   "source": [
    "# Grid search params for Blosc2\n",
    "clevels = (0, 5)\n",
    "codecs = (blosc2.Codec.LZ4, blosc2.Codec.ZSTD)\n",
    "\n",
    "\n",
    "# Create a 3D array of type float64\n",
    "def measure_blosc2(chunks, blocks=None):\n",
    "    meas = {}\n",
    "    for codec in codecs:\n",
    "        meas[codec] = {}\n",
    "        for clevel in clevels:\n",
    "            meas[codec][clevel] = {\"sum\": {}, \"time\": {}}\n",
    "            cparams = blosc2.CParams(clevel=clevel, codec=codec)\n",
    "            a1 = blosc2.asarray(a, chunks=chunks, blocks=blocks, cparams=cparams)\n",
    "            print(f\"chunks: {a1.chunks}, blocks: {a1.blocks}\")\n",
    "            if clevel > 0:\n",
    "                print(f\"cratio for {codec.name} + SHUFFLE: {a1.schunk.cratio:.1f}x\")\n",
    "            # Iterate on Blosc2 and NumPy arrays\n",
    "            for n, axis in enumerate(axes):\n",
    "                n = n if axis != \"all\" else None\n",
    "                t0 = time()\n",
    "                meas[codec][clevel][\"sum\"][axis] = a1.sum(axis=n)\n",
    "                t = time() - t0\n",
    "                meas[codec][clevel][\"time\"][axis] = t\n",
    "                # If interested, you can uncomment the following line to check the results\n",
    "                # np.testing.assert_allclose(meas[codec][clevel][\"sum\"][axis],\n",
    "                #                           meas_np[\"sum\"][axis])\n",
    "    return meas"
   ]
  },
  {
   "cell_type": "markdown",
   "id": "5ae2e09ad305417d",
   "metadata": {},
   "source": [
    "Now comes a helper function to plot and helpfully summarise the results of the measurements. It will plot the time taken for each reduction operation along different axes, comparing NumPy with Blosc2 for the different compression levels and codecs."
   ]
  },
  {
   "cell_type": "code",
   "execution_count": 5,
   "id": "fb0ce45807353475",
   "metadata": {
    "ExecuteTime": {
     "end_time": "2025-07-28T09:37:27.396089Z",
     "start_time": "2025-07-28T09:37:27.393680Z"
    }
   },
   "outputs": [],
   "source": [
    "def plot_meas(meas_np, meas, chunks):\n",
    "    _fig, ax = plt.subplots()\n",
    "\n",
    "    # Define the groups and bar width\n",
    "    groups = meas_np[\"time\"].keys()\n",
    "    bar_width = 0.2\n",
    "    indices = np.arange(len(groups))\n",
    "\n",
    "    # Plot NumPy times\n",
    "    ax.bar(indices - 1.5 * bar_width, [meas_np[\"time\"][g] for g in groups], bar_width, label=\"NumPy\")\n",
    "\n",
    "    # Plot Blosc2 times\n",
    "    ax.bar(\n",
    "        indices - 0.5 * bar_width,\n",
    "        [meas[blosc2.Codec.LZ4][0][\"time\"][g] for g in groups],\n",
    "        bar_width,\n",
    "        label=\"Blosc2, no compression\",\n",
    "    )\n",
    "    ax.bar(\n",
    "        indices + 0.5 * bar_width,\n",
    "        [meas[blosc2.Codec.LZ4][5][\"time\"][g] for g in groups],\n",
    "        bar_width,\n",
    "        label=\"Blosc2, LZ4 + SHUFFLE\",\n",
    "    )\n",
    "    ax.bar(\n",
    "        indices + 1.5 * bar_width,\n",
    "        [meas[blosc2.Codec.ZSTD][5][\"time\"][g] for g in groups],\n",
    "        bar_width,\n",
    "        label=\"Blosc2, ZSTD + SHUFFLE\",\n",
    "    )\n",
    "\n",
    "    # Set the labels and title\n",
    "    ax.set_xlabel(\"Axis\")\n",
    "    ax.set_ylabel(\"Time (s)\")\n",
    "    ax.set_title(\"Reduction Times\")\n",
    "    ax.set_xticks(indices)\n",
    "    ax.set_xticklabels(groups)\n",
    "    ax.legend()\n",
    "\n",
    "    plt.tight_layout()\n",
    "    plt.show()"
   ]
  },
  {
   "cell_type": "markdown",
   "id": "40e0ee294a813719",
   "metadata": {},
   "source": [
    "#### Results for Blosc2\n",
    "Now that we have the experiments set up, let's run the grid search with a fixed chunk shape, and plot the results compared to NumPy. We will start with the default chunk shape, which is set to `None` in Blosc2, meaning that it will be automatically selected based on the CPU cache size."
   ]
  },
  {
   "cell_type": "code",
   "execution_count": 6,
   "id": "9314c555-f759-43dd-95dd-08772b2bfd3a",
   "metadata": {
    "ExecuteTime": {
     "end_time": "2025-07-28T09:37:44.808761Z",
     "start_time": "2025-07-28T09:37:27.401140Z"
    }
   },
   "outputs": [
    {
     "name": "stdout",
     "output_type": "stream",
     "text": [
      "chunks: (1, 1000, 1000), blocks: (1, 20, 1000)\n",
      "chunks: (1, 1000, 1000), blocks: (1, 50, 1000)\n",
      "cratio for LZ4 + SHUFFLE: 16.7x\n",
      "chunks: (1, 1000, 1000), blocks: (1, 20, 1000)\n",
      "chunks: (1, 1000, 1000), blocks: (1, 50, 1000)\n",
      "cratio for ZSTD + SHUFFLE: 63.6x\n"
     ]
    },
    {
     "data": {
      "image/png": "[encoded data removed]",
      "text/plain": [
       "<Figure size 640x480 with 1 Axes>"
      ]
     },
     "metadata": {},
     "output_type": "display_data"
    }
   ],
   "source": [
    "# Automatic chunking: (1, 1000, 1000) for i9 13900K\n",
    "chunks = None\n",
    "meas = measure_blosc2(chunks)\n",
    "plot_meas(meas_np, meas, chunks)"
   ]
  },
  {
   "cell_type": "markdown",
   "id": "e9a1626664639c52",
   "metadata": {},
   "source": [
    "There are a couple of things to comment on in the plot. The first is that, except for the X axis, Blosc2 achieves similar performance when using compression (most specially LZ4 + SHUFFLE) than when not using it, so in general (light) compression does not hurt performance too much. See later for a discussion on these results.\n",
    "\n",
    "The second observation we can make is that, disappointingly, reductions along the X axis are much slower than those along the Y and Z axis for the Blosc2 case. This is because the automatically computed chunk shape is (8, 1000, 1000) making the overhead of partial sums larger for summing along the X axis. Why? If one sums along the Y axis for example, upon decompressing and summing a chunk of shape (8, 1000, 1000), one is left with a chunk of shape (8, 1000) that is already filled with the values of the final result. On the other hand, the same step, when summing along the X axis, results in a chunk of shape (1000, 1000) that then must be updated with the sum of the next chunk along the X axis, and so on and so on. This is explained in more detail below, but it should be clear that the performance difference is due to the chunk shape being different along the different axes.\n",
    "\n",
    "Let's try to equalise the performance by manually setting the chunk size. In the next case, we want to make performance similar along the three axes, so we will set the chunk and block shapes more uniform."
   ]
  },
  {
   "cell_type": "code",
   "execution_count": 16,
   "id": "e0070348-b3e5-4936-93ab-11dbe70db445",
   "metadata": {
    "ExecuteTime": {
     "end_time": "2025-07-28T09:38:17.380719Z",
     "start_time": "2025-07-28T09:37:44.821455Z"
    }
   },
   "outputs": [
    {
     "name": "stdout",
     "output_type": "stream",
     "text": [
      "chunks: (200, 200, 100), blocks: (1, 200, 100)\n",
      "chunks: (200, 200, 100), blocks: (2, 200, 100)\n",
      "cratio for LZ4 + SHUFFLE: 9.3x\n",
      "chunks: (200, 200, 100), blocks: (1, 200, 100)\n",
      "chunks: (200, 200, 100), blocks: (2, 200, 100)\n",
      "cratio for ZSTD + SHUFFLE: 31.8x\n"
     ]
    },
    {
     "data": {
      "image/png": "[encoded data removed]",
      "text/plain": [
       "<Figure size 640x480 with 1 Axes>"
      ]
     },
     "metadata": {},
     "output_type": "display_data"
    }
   ],
   "source": [
    "# Manual chunking\n",
    "chunks = (200, 200, 100)\n",
    "#blocks = (100, 50, 50)  # optional, but can help performance\n",
    "meas = measure_blosc2(chunks, blocks=None)\n",
    "plot_meas(meas_np, meas, chunks)"
   ]
  },
  {
   "cell_type": "markdown",
   "id": "a037fbb7dc45f983",
   "metadata": {},
   "source": [
    "In this case, when using compression, performance for sums along the X axis is comparable than that for the Y and Z axes for Blosc2. Interestingly though, in other axes, performance is not better than using automatic chunking (which is recommended in most cases).\n",
    "\n",
    "We could proceed further and try to fine tune the chunk and block size to get even better performance, but this is out of the scope of this tutorial. Instead, we will try to make some sense on the results above; see below."
   ]
  },
  {
   "cell_type": "markdown",
   "id": "ae10eed615d31f30",
   "metadata": {},
   "source": [
    "## Performing reductions on 3D arrays\n",
    "\n",
    "<div>\n",
    "<img src=\"images/reductions/3D-cube-plane.png\" width=\"300\"/>\n",
    "</div>\n",
    "\n",
    "By default, Blosc2 chooses the chunk size so that it fits in the CPU cache (e.g. 20 MB); it then selects the chunk shape according to the NumPy convention of storing data row-wise, so that data that is contiguous within chunks is also contiguous in the full array. Hence, for the 3D case above (shown schematically in the figure), the default chunk shape, shown in pink, is (1, 1000, 1000). While chunking the data like this often speeds up computations and operations, in the case of reductions, it means that reduction times along different axes will not be the same, as the sizes are not uniform.\n",
    "\n",
    "The difference in cost while traversing data values can be visualized more easily on a 2D array\n",
    "\n",
    "<div>\n",
    "<img src=\"images/reductions/memory-access-2D-x.png\" width=\"500\"/>\n",
    "</div>\n",
    "\n",
    "Reduction along the X axis: When accessing a chunk, the CPU can access the values from memory sequentially, but they need to be stored in an accumulator. The next chunk needs to be fetched from memory and each element added to the accumulator. If the size of the accumulator is large (in this case is `1000 * 1000 * 8 = 8 MB`), it does not fit in low level CPU caches, making this fetching, decompression and addition a slow procedure.\n",
    "\n",
    "<div>\n",
    "<img src=\"images/reductions/memory-access-2D-y.png\" width=\"500\"/>\n",
    "</div>\n",
    "\n",
    "Reducing along the Y axis: When accessing a chunk the CPU again accesses these values from memory sequentially but, contrarily to the case above, there is no need for an accumulator as the sum of the chunk along the Y axis already gives a row of the final result.  So, although the number of sum operations is the same as above, the required time is smaller because there is no need to update *all* the values of the accumulator per chunk, which reduces the time spent communicating between cache and processor.\n",
    "\n",
    "### Tweaking the chunk shape\n",
    "\n",
    "<div>\n",
    "<img src=\"images/reductions/3D-cube.png\" width=\"250\"/>\n",
    "</div>\n",
    "\n",
    "However, when Blosc2 is instructed to create chunks that are the same shape for all the axes (`chunks=(100, 100, 100)`), the situation changes. In this case, an accumulator is needed for each subcube, but it is smaller (`100 * 100 * 8 = 80 KB`) and fits in L2, which is faster than L3 (scenario above). Since the chunk shape is isomorphic, no axis is preferred and hence the performance is similar for all of them.\n",
    "\n",
    "It is interesting to note that, when using compression, performance is similar to NumPy along *all* axes, except for the X axis, where performance is up to 1.5x better. This fact is even more interesting since the same underlying NumPy reduction machinery is used for each chunk by Blosc2 as well. This is a nice side effect of compression; see below."
   ]
  },
  {
   "cell_type": "markdown",
   "id": "a1deee3b4faacc14",
   "metadata": {},
   "source": [
    "### Effects of using different codecs in Python-Blosc2\n",
    "\n",
    "Compression and decompression consume CPU and memory resources, however different codecs and configurations impact the use of these resources in different ways, and so it can be a good idea to alter the configuration to choose the most efficient option for the operating environment.\n",
    "\n",
    "When compression is not applied, data is stored and accessed as-is, which saves the time spent on compression and decompression; however, especially if the data is large, the resulting higher memory usage can result in longer access times. Compression reduces the size of the data in memory and storage, which can improve performance when reading and writing data; but one then requires additional CPU time for compression and decompression. Therefore, it is important to find the right balance between reduced size and processing time to give overall optimal performance.\n",
    "\n",
    "In the plots above, we can see how using the LZ4 codec is striking such a balance, as it achieves the best performance in general, exceeding the performance for uncompressed data. This is because LZ4 is tuned towards speed, and the time to compress and decompress the data is very low. On the other hand, ZSTD is a codec that is optimized for compression ratio, but is consequently a bit slower.  However, it is still faster than the uncompressed case, as the reduced memory transmission time compensates for the additional CPU time required for compression and decompression.\n",
    "\n",
    "We have just scraped the surface for some of the compression parameters that can be tuned in Blosc2.  You can use the `CParams` object with the different parameters in [CParams reference](https://www.blosc.org/python-blosc2/reference/autofiles/storage/blosc2.CParams.html#blosc2.CParams) to set the compression level, codec, filters and other parameters.  We also offer automated parameter selection via the [Btune neural network tool](https://ironarray.io/btune) that, depending on your requirements for compression/decompression speed, compression ratio, or lossiness of compression, tries to select the best parameters for your application and CPU resources."
   ]
  },
  {
   "cell_type": "markdown",
   "id": "106d7af6d1a6cedc",
   "metadata": {},
   "source": [
    "## Conclusion\n",
    "\n",
    "Understanding the balance between minimising storage space and the additional time required to process the data is important. Testing different compression settings can help you obtain the best trade-off between reduced size and processing time. However, as a first approximation (without requiring the user to weigh up the particulars of their CPU cache structure), the default Blosc2 parameters are not too bad, since the chunk shape is automatically selected based on the CPU cache size. As we have seen, it is also easy to fine tune the chunk shape if necessary for our desired application.\n",
    "\n",
    "Besides the ``sum`` reduction examined here, Blosc2 supports the main reduction operations (``mean``, ``std``, ``min``, ``max``, ``all``, ``any``, etc.), and you are invited to [explore them](../../reference/reduction_functions.html).\n",
    "\n",
    "Although we didn't review it explicitly here, it is possible to use reductions even for very large arrays that are stored on disk, as is the case for the lazy expressions and functions we have seen in previous tutorials. This is immensely powerful for data analysis on large datasets, offering efficient computations on datasets that are compressed on-disk with minimal memory usage. We will explore this in a forthcoming tutorial."
   ]
  }
 ],
 "metadata": {
  "kernelspec": {
   "display_name": "Python 3 (ipykernel)",
   "language": "python",
   "name": "python3"
  },
  "language_info": {
   "codemirror_mode": {
    "name": "ipython",
    "version": 3
   },
   "file_extension": ".py",
   "mimetype": "text/x-python",
   "name": "python",
   "nbconvert_exporter": "python",
   "pygments_lexer": "ipython3",
   "version": "3.13.5"
  }
 },
 "nbformat": 4,
 "nbformat_minor": 5
}
