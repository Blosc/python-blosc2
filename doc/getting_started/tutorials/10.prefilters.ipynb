{
 "cells": [
  {
   "cell_type": "markdown",
   "metadata": {},
   "source": [
    "# Prefilters, postfilters and fillers\n",
    "\n",
    "Via decorators, one may set functions that will be applied to an SChunk instance when compressing data while appending (prefilters), filling in data on creation (fillers) or decompressing data upon accessing (postfilters) from the SChunk. Note that then prefilters and fillers modify the stored data of the SChunk, while postfilters act on data decompressed and returned by access operations on the SChunk.\n",
    "\n",
    "These procedures are implemented via user defined (python) functions that can be executed before compressing the data when filling a SChunk. In this tutorial we will see how these work, so let's start by creating our SChunk!\n",
    "Because we will be using python functions, we will not be able to use parallelism, so `nthreads` has to be 1 when compressing:"
   ]
  },
  {
   "cell_type": "code",
   "execution_count": 1,
   "metadata": {
    "ExecuteTime": {
     "end_time": "2025-08-05T17:00:43.388338Z",
     "start_time": "2025-08-05T17:00:43.204261Z"
    }
   },
   "outputs": [
    {
     "data": {
      "text/plain": [
       "<blosc2.schunk.SChunk at 0x740d9ea49310>"
      ]
     },
     "execution_count": 1,
     "metadata": {},
     "output_type": "execute_result"
    }
   ],
   "source": [
    "import numpy as np\n",
    "\n",
    "import blosc2\n",
    "\n",
    "typesize = 4\n",
    "cparams = {\n",
    "    \"nthreads\": 1,\n",
    "    \"typesize\": typesize,\n",
    "}\n",
    "\n",
    "storage = {\n",
    "    \"cparams\": cparams,\n",
    "}\n",
    "\n",
    "chunk_len = 10_000\n",
    "my_schunk = blosc2.SChunk(chunksize=chunk_len * typesize, **storage)\n",
    "my_schunk"
   ]
  },
  {
   "cell_type": "markdown",
   "metadata": {},
   "source": [
    "Now that we have the schunk, we can create the different prefilter, postfilter and filler functions.\n",
    "\n",
    "## Prefilters\n",
    "\n",
    "For setting the prefilter, you will first have to create it as a function that receives three params: input, output and the offset in schunk where the block starts. Then, you will use a decorator and pass to it the input data type that the prefilter will receive and the output data type that it will fill and append to the schunk:"
   ]
  },
  {
   "cell_type": "code",
   "execution_count": 2,
   "metadata": {
    "ExecuteTime": {
     "end_time": "2025-08-05T17:00:43.453905Z",
     "start_time": "2025-08-05T17:00:43.450400Z"
    },
    "collapsed": false,
    "pycharm": {
     "name": "#%%\n"
    }
   },
   "outputs": [],
   "source": [
    "input_dtype = np.int32\n",
    "output_dtype = np.int32\n",
    "\n",
    "\n",
    "@my_schunk.prefilter(input_dtype, output_dtype)\n",
    "def prefilter(input, output, offset):\n",
    "    output[:] = input - 3 + offset"
   ]
  },
  {
   "cell_type": "markdown",
   "metadata": {},
   "source": [
    "Awesome! Now each time we add data in the schunk, the prefilter will modify it before storing it. Let's append an array and see that the actual appended data has been modified:"
   ]
  },
  {
   "cell_type": "code",
   "execution_count": 3,
   "metadata": {
    "ExecuteTime": {
     "end_time": "2025-08-05T17:00:43.468097Z",
     "start_time": "2025-08-05T17:00:43.460101Z"
    }
   },
   "outputs": [
    {
     "name": "stdout",
     "output_type": "stream",
     "text": [
      "[0 1 2 3 4 5 6 7 8 9]\n",
      "[-3 -2 -1  0  1  2  3  4  5  6]\n"
     ]
    }
   ],
   "source": [
    "buffer = np.arange(chunk_len * 100, dtype=input_dtype)\n",
    "my_schunk[: buffer.size] = buffer\n",
    "\n",
    "out = np.empty(10, dtype=output_dtype)\n",
    "my_schunk.get_slice(stop=10, out=out)\n",
    "print(buffer[:10])\n",
    "print(out)"
   ]
  },
  {
   "cell_type": "markdown",
   "metadata": {},
   "source": [
    "As you can see, the data was modified according to the prefilter function.\n",
    "\n",
    "#### Removing a prefilter\n",
    "\n",
    "What if we don't want the prefilter to be executed anymore? Then you can remove the prefilter from the schunk just like so:"
   ]
  },
  {
   "cell_type": "code",
   "execution_count": 4,
   "metadata": {
    "ExecuteTime": {
     "end_time": "2025-08-05T17:00:43.479204Z",
     "start_time": "2025-08-05T17:00:43.475816Z"
    },
    "collapsed": false,
    "pycharm": {
     "name": "#%%\n"
    }
   },
   "outputs": [],
   "source": [
    "my_schunk.remove_prefilter(\"prefilter\")"
   ]
  },
  {
   "cell_type": "markdown",
   "metadata": {
    "collapsed": false,
    "pycharm": {
     "name": "#%% md\n"
    }
   },
   "source": [
    "Since we no longer use a user-defined python function, we might want to enable multi-threading again, via ``my_schunk.cparams = blosc2.CParams(**{\"nthreads\": 8})``.\n",
    "\n",
    "## Fillers\n",
    "\n",
    "So far, we have seen a way to set a function that will be executed each time we append some data. Now, we may instead want to fill an empty schunk with some more complex operation only once, and then update the data without being modified. This is where fillers come into play.\n",
    "\n",
    "A filler is a function that receives a tuple of inputs, an output and the offset where the block begins. First let's create another empty schunk (with parallelism disabled of course):"
   ]
  },
  {
   "cell_type": "code",
   "execution_count": 5,
   "metadata": {
    "ExecuteTime": {
     "end_time": "2025-08-05T17:00:43.490273Z",
     "start_time": "2025-08-05T17:00:43.487213Z"
    },
    "collapsed": false,
    "pycharm": {
     "name": "#%%\n"
    }
   },
   "outputs": [],
   "source": [
    "schunk_fill = blosc2.SChunk(chunksize=chunk_len * typesize, **storage)"
   ]
  },
  {
   "cell_type": "markdown",
   "metadata": {
    "collapsed": false
   },
   "source": "Next, we will create our filler function, which must have the following signature: a 2-element inputs tuple of the input and the data type; an output data type; and the number of elements you want the filled schunk to have. We then associate the filler function to the ``schunk_fill`` that we want to fill via the relevant decorator like so, using as input the ``my_schunk`` that we created:"
  },
  {
   "cell_type": "code",
   "execution_count": 6,
   "metadata": {
    "ExecuteTime": {
     "end_time": "2025-08-05T17:00:43.505765Z",
     "start_time": "2025-08-05T17:00:43.497726Z"
    },
    "collapsed": false,
    "pycharm": {
     "name": "#%%\n"
    }
   },
   "outputs": [],
   "source": [
    "nelem = my_schunk.nbytes // my_schunk.typesize\n",
    "\n",
    "\n",
    "@schunk_fill.filler(((my_schunk, output_dtype),), output_dtype, nelem)\n",
    "def filler(inputs_tuple, output, offset):\n",
    "    output[:] = inputs_tuple[0] + offset"
   ]
  },
  {
   "cell_type": "markdown",
   "metadata": {
    "collapsed": false,
    "pycharm": {
     "name": "#%% md\n"
    }
   },
   "source": "Let's see how the filled data looks:"
  },
  {
   "cell_type": "code",
   "execution_count": 7,
   "metadata": {
    "ExecuteTime": {
     "end_time": "2025-08-05T17:00:43.520938Z",
     "start_time": "2025-08-05T17:00:43.513241Z"
    },
    "collapsed": false,
    "pycharm": {
     "name": "#%%\n"
    }
   },
   "outputs": [
    {
     "data": {
      "text/plain": [
       "array([     -3,      -2,      -1, ..., 2979994, 2979995, 2979996],\n",
       "      shape=(1000000,), dtype=int32)"
      ]
     },
     "execution_count": 7,
     "metadata": {},
     "output_type": "execute_result"
    }
   ],
   "source": [
    "out = np.empty(nelem, dtype=output_dtype)\n",
    "schunk_fill.get_slice(out=out)\n",
    "out"
   ]
  },
  {
   "cell_type": "markdown",
   "metadata": {
    "collapsed": false
   },
   "source": "That looks right. If we now update ``schunk_fill`` with some data, the filler function will not be applied to it:"
  },
  {
   "cell_type": "code",
   "execution_count": 8,
   "metadata": {
    "ExecuteTime": {
     "end_time": "2025-08-05T17:00:43.534121Z",
     "start_time": "2025-08-05T17:00:43.528533Z"
    },
    "collapsed": false,
    "pycharm": {
     "name": "#%%\n"
    }
   },
   "outputs": [
    {
     "data": {
      "text/plain": [
       "array([      1,       1,       1, ..., 2979994, 2979995, 2979996],\n",
       "      shape=(1000000,), dtype=int32)"
      ]
     },
     "execution_count": 8,
     "metadata": {},
     "output_type": "execute_result"
    }
   ],
   "source": [
    "new_data = np.ones(chunk_len, dtype=np.int32)\n",
    "\n",
    "schunk_fill[: new_data.size] = new_data\n",
    "schunk_fill.get_slice(out=out)\n",
    "out"
   ]
  },
  {
   "cell_type": "markdown",
   "metadata": {},
   "source": [
    "As you can see, the filler function has not been applied to the new data. That makes sense because the filler, contrarily to a regular prefilter, is only active during the schunk creation. Since the filler will not be called again, there is no need to remove it, although we may want to enable parallelism again, via ``schunk_fill.cparams = blosc2.CParams(**{\"nthreads\": 8})``.\n",
    "\n",
    "## Postfilters\n",
    "\n",
    "Contrary to prefilters, a postfilter is executed every time one decompresses SChunk data during access operations. We'll use the ``my_schunk`` we created above to show how to set a postfilter, which already has parallelism disabled for compression - but not for decompression, as is necessary when using postfilter functions. The postfilter function has the same three arguments as the prefilter function: input, output and offset. However, the decorator used to associate the function to ``my_schunk`` only requires the input data type:"
   ]
  },
  {
   "cell_type": "code",
   "execution_count": 9,
   "metadata": {
    "ExecuteTime": {
     "end_time": "2025-08-05T17:00:43.546924Z",
     "start_time": "2025-08-05T17:00:43.542499Z"
    }
   },
   "outputs": [],
   "source": [
    "my_schunk.dparams = blosc2.DParams(**{\"nthreads\": 1})  # Disable parallelism for decompression\n",
    "\n",
    "\n",
    "@my_schunk.postfilter(input_dtype)\n",
    "def postfilter(input, output, offset):\n",
    "    output[:] = input + 3 + np.arange(input.size) + offset"
   ]
  },
  {
   "cell_type": "markdown",
   "metadata": {},
   "source": "Let's try decompressing some data from the schunk and see how the postfilter is applied:"
  },
  {
   "cell_type": "code",
   "execution_count": 10,
   "metadata": {
    "ExecuteTime": {
     "end_time": "2025-08-05T17:00:43.567228Z",
     "start_time": "2025-08-05T17:00:43.561737Z"
    }
   },
   "outputs": [
    {
     "data": {
      "text/plain": [
       "array([ 0,  2,  4,  6,  8, 10, 12, 14, 16, 18], dtype=int32)"
      ]
     },
     "execution_count": 10,
     "metadata": {},
     "output_type": "execute_result"
    }
   ],
   "source": [
    "out = np.empty(10, dtype=input_dtype)\n",
    "my_schunk.get_slice(stop=10, out=out)\n",
    "out"
   ]
  },
  {
   "cell_type": "markdown",
   "metadata": {},
   "source": "If we do not want the postfilter to be executed anymore, we can remove it from the SChunk easily. We can then check that it is no longer applied when decompressing data:"
  },
  {
   "cell_type": "code",
   "execution_count": 11,
   "metadata": {
    "ExecuteTime": {
     "end_time": "2025-08-05T17:00:43.576336Z",
     "start_time": "2025-08-05T17:00:43.571951Z"
    }
   },
   "outputs": [
    {
     "data": {
      "text/plain": [
       "array([-3, -2, -1,  0,  1,  2,  3,  4,  5,  6], dtype=int32)"
      ]
     },
     "execution_count": 11,
     "metadata": {},
     "output_type": "execute_result"
    }
   ],
   "source": [
    "my_schunk.remove_postfilter(\"postfilter\")\n",
    "my_schunk.get_slice(stop=10, out=out)\n",
    "out"
   ]
  },
  {
   "cell_type": "markdown",
   "metadata": {
    "collapsed": false
   },
   "source": [
    "\n",
    "## Conclusions\n",
    "If you want a function to be applied each time before compressing some data, you will use a prefilter. But if you just want to use it once to fill an empty schunk, you may want to use a filler. Finally, if you want to modify data upon access, but leave the internal data of the SChunk untouched, you would use a postfilter. And of course, you can remove any of these functions at any time, and re-enable parallelism if you decide to stop using user-defined functions.\n",
    "\n",
    "Prefilters, postfilters and fillers can also be applied to an NDArray array via its SChunk attribute(`NDArray.schunk`).\n",
    "\n",
    "That's all for now. There are more examples in the [examples directory](https://github.com/Blosc/python-blosc2/tree/main/examples) for you to explore.  Enjoy!"
   ]
  }
 ],
 "metadata": {
  "kernelspec": {
   "display_name": "Python 3 (ipykernel)",
   "language": "python",
   "name": "python3"
  },
  "language_info": {
   "codemirror_mode": {
    "name": "ipython",
    "version": 3
   },
   "file_extension": ".py",
   "mimetype": "text/x-python",
   "name": "python",
   "nbconvert_exporter": "python",
   "pygments_lexer": "ipython3",
   "version": "3.10.4"
  }
 },
 "nbformat": 4,
 "nbformat_minor": 1
}
