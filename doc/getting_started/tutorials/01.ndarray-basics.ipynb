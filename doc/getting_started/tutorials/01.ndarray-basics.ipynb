{
 "cells": [
  {
   "cell_type": "markdown",
   "metadata": {},
   "source": [
    "# NDArray: A NDim, Compressed Data Container\n",
    "\n",
    "NDArray objects let users perform different operations with  arrays like setting, copying or slicing them. In this section, we are going to see how to create and manipulate these NDArray arrays, which possess metadata and data. The data is *chunked* and *compressed*; the metadata gives information about the data itself, as well as the chunking and compression. Chunking and compression are features which make NDArray arrays very efficient for working with large data."
   ]
  },
  {
   "cell_type": "code",
   "metadata": {
    "ExecuteTime": {
     "end_time": "2025-08-16T12:43:30.038716Z",
     "start_time": "2025-08-16T12:43:29.906366Z"
    }
   },
   "source": [
    "import numpy as np\n",
    "\n",
    "import blosc2"
   ],
   "outputs": [],
   "execution_count": 1
  },
  {
   "cell_type": "markdown",
   "metadata": {},
   "source": [
    "## Creating an array\n",
    "Let's start by creating a 2D array with 100M elements filled with ``arange``. We can then print out the metadata, which contains information about: the array data (such as ``shape`` and ``dtype``); and how the data is compressed and stored, such as chunk- and block-shapes (``chunks`` and ``blocks``) and compression params (``CParams``). See [here](https://www.blosc.org/python-blosc2/getting_started/overview.html) for an explanation of chunking and blocking.\n",
    "\n"
   ]
  },
  {
   "cell_type": "code",
   "metadata": {
    "ExecuteTime": {
     "end_time": "2025-08-16T12:43:30.625649Z",
     "start_time": "2025-08-16T12:43:30.042767Z"
    }
   },
   "source": [
    "shape = (10_000, 10_000)\n",
    "array = blosc2.arange(np.prod(shape), shape=shape)\n",
    "print(array.info)"
   ],
   "outputs": [
    {
     "name": "stdout",
     "output_type": "stream",
     "text": [
      "type    : NDArray\n",
      "shape   : (10000, 10000)\n",
      "chunks  : (625, 10000)\n",
      "blocks  : (5, 10000)\n",
      "dtype   : int64\n",
      "nbytes  : 800000000\n",
      "cbytes  : 1459352\n",
      "cratio  : 548.19\n",
      "cparams : CParams(codec=<Codec.ZSTD: 5>, codec_meta=0, clevel=5, use_dict=False, typesize=8,\n",
      "        : nthreads=12, blocksize=400000, splitmode=<SplitMode.AUTO_SPLIT: 3>,\n",
      "        : filters=[<Filter.NOFILTER: 0>, <Filter.NOFILTER: 0>, <Filter.NOFILTER: 0>,\n",
      "        : <Filter.NOFILTER: 0>, <Filter.NOFILTER: 0>, <Filter.SHUFFLE: 1>], filters_meta=[0, 0,\n",
      "        : 0, 0, 0, 0], tuner=<Tuner.STUNE: 0>)\n",
      "dparams : DParams(nthreads=12)\n",
      "\n"
     ]
    }
   ],
   "execution_count": 2
  },
  {
   "cell_type": "markdown",
   "metadata": {},
   "source": [
    "The ``cratio`` parameter tells us how effective the compression is, since it gives the ratio between the number of bytes required to store the array in uncompressed and compressed form. Here we require almost 500x less space for the compressed array! Note that all the compression and decompression parameters are set to the default, and ``chunks`` and ``blocks`` have been selected automatically - playing around with them will affect the ``cratio`` (as well as compression and decompression speed).\n",
    "\n",
    "We can also create an NDArray by compressing a NumPy array:"
   ]
  },
  {
   "cell_type": "code",
   "metadata": {
    "ExecuteTime": {
     "end_time": "2025-08-16T12:43:30.804188Z",
     "start_time": "2025-08-16T12:43:30.629685Z"
    }
   },
   "source": [
    "nparray = np.linspace(0, 100, np.prod(shape), dtype=np.float64).reshape(shape)\n",
    "b2array = blosc2.asarray(nparray)\n",
    "print(b2array.info)"
   ],
   "outputs": [
    {
     "name": "stdout",
     "output_type": "stream",
     "text": [
      "type    : NDArray\n",
      "shape   : (10000, 10000)\n",
      "chunks  : (625, 10000)\n",
      "blocks  : (5, 10000)\n",
      "dtype   : float64\n",
      "nbytes  : 800000000\n",
      "cbytes  : 14833410\n",
      "cratio  : 53.93\n",
      "cparams : CParams(codec=<Codec.ZSTD: 5>, codec_meta=0, clevel=5, use_dict=False, typesize=8,\n",
      "        : nthreads=12, blocksize=400000, splitmode=<SplitMode.AUTO_SPLIT: 3>,\n",
      "        : filters=[<Filter.NOFILTER: 0>, <Filter.NOFILTER: 0>, <Filter.NOFILTER: 0>,\n",
      "        : <Filter.NOFILTER: 0>, <Filter.NOFILTER: 0>, <Filter.SHUFFLE: 1>], filters_meta=[0, 0,\n",
      "        : 0, 0, 0, 0], tuner=<Tuner.STUNE: 0>)\n",
      "dparams : DParams(nthreads=12)\n",
      "\n"
     ]
    }
   ],
   "execution_count": 3
  },
  {
   "cell_type": "markdown",
   "metadata": {},
   "source": [
    "or an iterator:"
   ]
  },
  {
   "cell_type": "code",
   "metadata": {
    "ExecuteTime": {
     "end_time": "2025-08-16T12:43:31.190668Z",
     "start_time": "2025-08-16T12:43:30.809196Z"
    }
   },
   "source": [
    "N = 1000_000\n",
    "rng = np.random.default_rng()\n",
    "it = ((-x + 1, x - 2, rng.normal()) for x in range(N))\n",
    "sa = blosc2.fromiter(it, dtype=\"i4,f4,f8\", shape=(N,))\n",
    "print(sa.info)"
   ],
   "outputs": [
    {
     "name": "stdout",
     "output_type": "stream",
     "text": [
      "type    : NDArray\n",
      "shape   : (1000000,)\n",
      "chunks  : (1000000,)\n",
      "blocks  : (62500,)\n",
      "dtype   : [('f0', '<i4'), ('f1', '<f4'), ('f2', '<f8')]\n",
      "nbytes  : 16000000\n",
      "cbytes  : 7060101\n",
      "cratio  : 2.27\n",
      "cparams : CParams(codec=<Codec.ZSTD: 5>, codec_meta=0, clevel=5, use_dict=False, typesize=16,\n",
      "        : nthreads=12, blocksize=1000000, splitmode=<SplitMode.AUTO_SPLIT: 3>,\n",
      "        : filters=[<Filter.NOFILTER: 0>, <Filter.NOFILTER: 0>, <Filter.NOFILTER: 0>,\n",
      "        : <Filter.NOFILTER: 0>, <Filter.NOFILTER: 0>, <Filter.SHUFFLE: 1>], filters_meta=[0, 0,\n",
      "        : 0, 0, 0, 0], tuner=<Tuner.STUNE: 0>)\n",
      "dparams : DParams(nthreads=12)\n",
      "\n"
     ]
    }
   ],
   "execution_count": 4
  },
  {
   "cell_type": "markdown",
   "metadata": {},
   "source": [
    "\n",
    "## Reading and modifying data\n",
    "NDArray arrays cannot be read directly, since they are compressed, and so must be decompressed first (to NumPy arrays, which are stored in memory). This can be done for the full array using the ``[:]`` operator, which returns a NumPy array."
   ]
  },
  {
   "cell_type": "code",
   "metadata": {
    "ExecuteTime": {
     "end_time": "2025-08-16T12:43:31.345948Z",
     "start_time": "2025-08-16T12:43:31.194592Z"
    }
   },
   "source": [
    "temp = array[:]  # This will decompress the full array\n",
    "type(temp)"
   ],
   "outputs": [
    {
     "data": {
      "text/plain": [
       "numpy.ndarray"
      ]
     },
     "execution_count": 5,
     "metadata": {},
     "output_type": "execute_result"
    }
   ],
   "execution_count": 5
  },
  {
   "cell_type": "markdown",
   "metadata": {},
   "source": [
    "\n",
    "However it is often not necessary (or desirable) to load the whole array into memory. We can easily read just small parts of NDArray arrays to a NumPy array, quickly, via standard indexing routines."
   ]
  },
  {
   "cell_type": "code",
   "metadata": {
    "ExecuteTime": {
     "end_time": "2025-08-16T12:43:31.356207Z",
     "start_time": "2025-08-16T12:43:31.352685Z"
    }
   },
   "source": [
    "res1 = array[0]  # get first element\n",
    "res2 = array[6:10]  # get slice\n",
    "print(f\"Got one element (of shape {res1.shape}) and slice of shape {res2.shape}.\")"
   ],
   "outputs": [
    {
     "name": "stdout",
     "output_type": "stream",
     "text": [
      "Got one element (of shape (10000,)) and slice of shape (4, 10000).\n"
     ]
    }
   ],
   "execution_count": 6
  },
  {
   "cell_type": "markdown",
   "metadata": {},
   "source": [
    "We can modify the data in the array using standard NumPy indexing too, using either NumPy or NDArray arrays as the data source.  For example, we can set the first row to zeros (using an NDArray array) and the first column to ones (using a NumPy array)"
   ]
  },
  {
   "cell_type": "code",
   "metadata": {
    "ExecuteTime": {
     "end_time": "2025-08-16T12:43:31.438490Z",
     "start_time": "2025-08-16T12:43:31.365633Z"
    }
   },
   "source": [
    "array[0, :] = blosc2.zeros(10000, dtype=array.dtype)\n",
    "array[:, 0] = np.ones(10000, dtype=array.dtype)\n",
    "print(array)"
   ],
   "outputs": [
    {
     "name": "stdout",
     "output_type": "stream",
     "text": [
      "<blosc2.ndarray.NDArray object at 0x108e05710>\n"
     ]
    }
   ],
   "execution_count": 7
  },
  {
   "cell_type": "markdown",
   "metadata": {},
   "source": [
    "Note that ``array`` is still an NDArray array. Let's check that the entries were correctly modified."
   ]
  },
  {
   "cell_type": "code",
   "metadata": {
    "ExecuteTime": {
     "end_time": "2025-08-16T12:43:31.456972Z",
     "start_time": "2025-08-16T12:43:31.442481Z"
    }
   },
   "source": [
    "print(array[0, 0])\n",
    "print(array[0, :])\n",
    "print(array[:, 0])"
   ],
   "outputs": [
    {
     "name": "stdout",
     "output_type": "stream",
     "text": [
      "1\n",
      "[1 0 0 ... 0 0 0]\n",
      "[1 1 1 ... 1 1 1]\n"
     ]
    }
   ],
   "execution_count": 8
  },
  {
   "cell_type": "markdown",
   "metadata": {},
   "source": [
    "## Enlarging the array\n",
    "Existing arrays can be enlarged. This is one operation that is greatly enhanced by the chunking procedure implemented in NDArray arrays."
   ]
  },
  {
   "cell_type": "code",
   "metadata": {
    "ExecuteTime": {
     "end_time": "2025-08-16T12:43:31.468824Z",
     "start_time": "2025-08-16T12:43:31.460179Z"
    }
   },
   "source": [
    "array.resize((10_001, 10_000))\n",
    "print(array.shape)\n",
    "array[10_000, :] = 1\n",
    "array[10_000, :]"
   ],
   "outputs": [
    {
     "name": "stdout",
     "output_type": "stream",
     "text": [
      "(10001, 10000)\n"
     ]
    },
    {
     "data": {
      "text/plain": [
       "array([1, 1, 1, ..., 1, 1, 1], shape=(10000,))"
      ]
     },
     "execution_count": 9,
     "metadata": {},
     "output_type": "execute_result"
    }
   ],
   "execution_count": 9
  },
  {
   "cell_type": "markdown",
   "metadata": {},
   "source": [
    "Enlarging a NumPy array requires a full copy of the data, since underlying data are stored contiguously in memory, which is very costly: new memory to hold the extended array is allocated, the old data is copied to part of the new memory, and then the new data is written to the remaining new memory.\n",
    "Enlarging is a much faster operation for NDArray arrays because data is chunked, and the chunks may be stored non-contiguously in memory, so one may simply write the necessary new chunks to some arbitrary address in memory and leave the old chunks untouched. The references to the new chunk addresses are then added in the NDArray container, which is a very quick operation.\n",
    "\n",
    "You can also shrink the array."
   ]
  },
  {
   "cell_type": "code",
   "metadata": {
    "ExecuteTime": {
     "end_time": "2025-08-16T12:43:31.477756Z",
     "start_time": "2025-08-16T12:43:31.475030Z"
    }
   },
   "source": [
    "array.resize((9_000, 10_000))\n",
    "print(array.shape)\n",
    "print(array[8_999])  # This works\n",
    "# array[9_000]  # This will raise an exception"
   ],
   "outputs": [
    {
     "name": "stdout",
     "output_type": "stream",
     "text": [
      "(9000, 10000)\n",
      "[       1 89990001 89990002 ... 89999997 89999998 89999999]\n"
     ]
    }
   ],
   "execution_count": 10
  },
  {
   "cell_type": "markdown",
   "metadata": {},
   "source": [
    "## Persistent data\n",
    "We can use the `save()` method to store the array on disk.  This is very useful when you are working with a large array but do not need to access it often.\n"
   ]
  },
  {
   "cell_type": "code",
   "metadata": {
    "ExecuteTime": {
     "end_time": "2025-08-16T12:43:32.086504Z",
     "start_time": "2025-08-16T12:43:31.486265Z"
    }
   },
   "source": [
    "array.save(\"array_tutorial.b2nd\", mode=\"w\")  # , contiguous=True)\n",
    "!ls -lh array_tutorial.b2nd"
   ],
   "outputs": [
    {
     "name": "stdout",
     "output_type": "stream",
     "text": [
      "-rw-r--r--@ 1 faltet  staff   1.5M Aug 16 14:43 array_tutorial.b2nd\r\n"
     ]
    }
   ],
   "execution_count": 11
  },
  {
   "cell_type": "markdown",
   "metadata": {},
   "source": [
    "\n",
    "For arrays, it is usual to use the `.b2nd` extension. Now let's open the saved array and check that the data saved correctly (decompressing first to be able to compare):"
   ]
  },
  {
   "cell_type": "code",
   "metadata": {
    "ExecuteTime": {
     "end_time": "2025-08-16T12:43:32.425398Z",
     "start_time": "2025-08-16T12:43:32.091506Z"
    }
   },
   "source": [
    "array2 = blosc2.open(\"array_tutorial.b2nd\")\n",
    "np.all(array2[:] == array[:])  # Make sure saved array matches original"
   ],
   "outputs": [
    {
     "data": {
      "text/plain": [
       "np.True_"
      ]
     },
     "execution_count": 12,
     "metadata": {},
     "output_type": "execute_result"
    }
   ],
   "execution_count": 12
  },
  {
   "cell_type": "markdown",
   "metadata": {},
   "source": [
    "In fact it is possible to create a NDArray array directly on disk, specifying where it will be stored, without first creating it in memory. We may also specify the compression/decompression and other storage parameters (e.g ``chunks`` and ``blocks``). For example, a 1000x1000 array filled with the string ``\"pepe\"`` can be created like this:"
   ]
  },
  {
   "cell_type": "code",
   "metadata": {
    "ExecuteTime": {
     "end_time": "2025-08-16T12:43:32.876192Z",
     "start_time": "2025-08-16T12:43:32.429461Z"
    }
   },
   "source": [
    "array1 = blosc2.full(\n",
    "    (1000, 1000),\n",
    "    fill_value=b\"pepe\",\n",
    "    chunks=(100, 100),\n",
    "    blocks=(50, 50),\n",
    "    urlpath=\"array1_tutorial.b2nd\",\n",
    "    mode=\"w\",\n",
    ")\n",
    "!ls -lh array1_tutorial.b2nd"
   ],
   "outputs": [
    {
     "name": "stdout",
     "output_type": "stream",
     "text": [
      "-rw-r--r--@ 1 faltet  staff   3.9K Aug 16 14:43 array1_tutorial.b2nd\r\n"
     ]
    }
   ],
   "execution_count": 13
  },
  {
   "cell_type": "markdown",
   "metadata": {},
   "source": [
    "We can also write direct to disk using the other constructors we saw previously."
   ]
  },
  {
   "cell_type": "code",
   "metadata": {
    "ExecuteTime": {
     "end_time": "2025-08-16T12:43:33.449876Z",
     "start_time": "2025-08-16T12:43:32.881739Z"
    }
   },
   "source": [
    "it = ((-x + 1, x - 2, rng.normal()) for x in range(N))\n",
    "sa = blosc2.fromiter(it, dtype=\"i4,f4,f8\", shape=(N,), urlpath=\"sa-1M.b2nd\", mode=\"w\")\n",
    "print(\"3 first rows of sa:\", sa[:3])\n",
    "b2array = blosc2.asarray(nparray, urlpath=\"linspace_array.b2nd\", mode=\"w\")\n",
    "print(\"3 first rows of b2array:\", b2array[:3])"
   ],
   "outputs": [
    {
     "name": "stdout",
     "output_type": "stream",
     "text": [
      "3 first rows of sa: [( 1, -2.,  0.21515887) ( 0, -1., -1.93182528) (-1,  0.,  1.18963501)]\n",
      "3 first rows of b2array: [[0.00000000e+00 1.00000001e-06 2.00000002e-06 ... 9.99700010e-03\n",
      "  9.99800010e-03 9.99900010e-03]\n",
      " [1.00000001e-02 1.00010001e-02 1.00020001e-02 ... 1.99970002e-02\n",
      "  1.99980002e-02 1.99990002e-02]\n",
      " [2.00000002e-02 2.00010002e-02 2.00020002e-02 ... 2.99970003e-02\n",
      "  2.99980003e-02 2.99990003e-02]]\n"
     ]
    }
   ],
   "execution_count": 14
  },
  {
   "cell_type": "markdown",
   "metadata": {},
   "source": [
    "To delete saved data, one may use the ``remove_urlpath`` method."
   ]
  },
  {
   "cell_type": "code",
   "metadata": {
    "ExecuteTime": {
     "end_time": "2025-08-16T12:43:33.455964Z",
     "start_time": "2025-08-16T12:43:33.453484Z"
    }
   },
   "source": [
    "blosc2.remove_urlpath(\"array_tutorial.b2nd\")\n",
    "blosc2.remove_urlpath(\"array1_tutorial.b2nd\")\n",
    "blosc2.remove_urlpath(\"sa-1M.b2nd\")\n",
    "blosc2.remove_urlpath(\"linspace_array.b2nd\")"
   ],
   "outputs": [],
   "execution_count": 15
  },
  {
   "cell_type": "markdown",
   "metadata": {},
   "source": [
    "## Compression params\n",
    "Let's see how to copy the NDArray data whilst altering the compression parameters. This may be useful in many contexts, for example testing how changing the codec of an existing array affects the compression ratio."
   ]
  },
  {
   "cell_type": "code",
   "metadata": {
    "ExecuteTime": {
     "end_time": "2025-08-16T12:43:33.616091Z",
     "start_time": "2025-08-16T12:43:33.464463Z"
    }
   },
   "source": [
    "cparams = blosc2.CParams(\n",
    "    codec=blosc2.Codec.LZ4,\n",
    "    clevel=9,\n",
    "    filters=[blosc2.Filter.BITSHUFFLE],\n",
    "    filters_meta=[0],\n",
    ")\n",
    "\n",
    "array2 = array.copy(chunks=(500, 10_000), blocks=(50, 10_000), cparams=cparams)\n",
    "print(array2.info)"
   ],
   "outputs": [
    {
     "name": "stdout",
     "output_type": "stream",
     "text": [
      "type    : NDArray\n",
      "shape   : (9000, 10000)\n",
      "chunks  : (500, 10000)\n",
      "blocks  : (50, 10000)\n",
      "dtype   : int64\n",
      "nbytes  : 720000000\n",
      "cbytes  : 10193381\n",
      "cratio  : 70.63\n",
      "cparams : CParams(codec=<Codec.LZ4: 1>, codec_meta=0, clevel=9, use_dict=False, typesize=8,\n",
      "        : nthreads=12, blocksize=4000000, splitmode=<SplitMode.AUTO_SPLIT: 3>,\n",
      "        : filters=[<Filter.BITSHUFFLE: 2>, <Filter.NOFILTER: 0>, <Filter.NOFILTER: 0>,\n",
      "        : <Filter.NOFILTER: 0>, <Filter.NOFILTER: 0>, <Filter.NOFILTER: 0>], filters_meta=[0, 0,\n",
      "        : 0, 0, 0, 0], tuner=<Tuner.STUNE: 0>)\n",
      "dparams : DParams(nthreads=12)\n",
      "\n"
     ]
    }
   ],
   "execution_count": 16
  },
  {
   "cell_type": "code",
   "metadata": {
    "ExecuteTime": {
     "end_time": "2025-08-16T12:43:33.621480Z",
     "start_time": "2025-08-16T12:43:33.619768Z"
    }
   },
   "source": [
    "print(array.info)"
   ],
   "outputs": [
    {
     "name": "stdout",
     "output_type": "stream",
     "text": [
      "type    : NDArray\n",
      "shape   : (9000, 10000)\n",
      "chunks  : (625, 10000)\n",
      "blocks  : (5, 10000)\n",
      "dtype   : int64\n",
      "nbytes  : 750000000\n",
      "cbytes  : 1537287\n",
      "cratio  : 487.87\n",
      "cparams : CParams(codec=<Codec.ZSTD: 5>, codec_meta=0, clevel=5, use_dict=False, typesize=8,\n",
      "        : nthreads=12, blocksize=400000, splitmode=<SplitMode.AUTO_SPLIT: 3>,\n",
      "        : filters=[<Filter.NOFILTER: 0>, <Filter.NOFILTER: 0>, <Filter.NOFILTER: 0>,\n",
      "        : <Filter.NOFILTER: 0>, <Filter.NOFILTER: 0>, <Filter.SHUFFLE: 1>], filters_meta=[0, 0,\n",
      "        : 0, 0, 0, 0], tuner=<Tuner.STUNE: 0>)\n",
      "dparams : DParams(nthreads=12)\n",
      "\n"
     ]
    }
   ],
   "execution_count": 17
  },
  {
   "cell_type": "markdown",
   "metadata": {},
   "source": [
    "In this case the compression ratio is much higher for the original array, since we have changed to a different codec that is optimised for compression speed, not compression ratio. In general there is a tradeoff between the two.\n",
    "\n",
    "#### Native Blosc2 Codecs\n",
    "Blosc2 supports many standard codecs, since there is no one-size-fits-all compression solution - one codec may be perfect for one context, but quite suboptimal in another.\n",
    "* ZLIB codec: uses the DEFLATE algorithm, is standard, and works well for images.\n",
    "* ZSTD codec: similar compression ratio to ZLIB but faster compression/decompression\n",
    "* LZ4 codec: even faster comp/decomp than ZSTD but reduced compression ratio.\n",
    " * BloscLZ: Blosc implementation of the popular LZ algorithms (good for repeated data e.g. text). Similar tradeoff to LZ4.\n",
    "\n",
    "Finally, via package extensions to Blosc2, one may access the JPEG2000 family of compression algorithms, which aim for a compromise between compression ratio and image quality; Blosc2 implements GROK (``blosc2-grok``) and OPENHTJ2K (``blosc2-openhtj2k``)."
   ]
  },
  {
   "cell_type": "markdown",
   "metadata": {},
   "source": [
    "## TreeStore: Endowing your data with a hierarchical structure\n",
    "With the `TreeStore` class, you can create a hierarchical structure for your data. This is useful when you want to store data in a tree-like format, where each node can have multiple children. The `TreeStore` class allows you to create, read, and modify trees of NDArray arrays.\n",
    "\n",
    "Let's see an example:"
   ]
  },
  {
   "cell_type": "code",
   "metadata": {
    "ExecuteTime": {
     "end_time": "2025-08-16T12:43:33.806031Z",
     "start_time": "2025-08-16T12:43:33.629500Z"
    }
   },
   "source": [
    "with blosc2.TreeStore(\"example_tree.b2z\", mode=\"w\") as tstore:\n",
    "    tstore[\"/data\"] = np.array([1, 2, 3])  # numpy array\n",
    "    tstore[\"/dir1/data1\"] = blosc2.ones((2, 10))  # blosc2 array\n",
    "    tstore[\"/dir1/data2\"] = blosc2.linspace(0, 1, 1e7, shape=(10, 1000, 1000))  # blosc2 array\n",
    "    tstore.vlmeta[\"author\"] = \"blosc2\"\n",
    "    tstore[\"/dir1\"].vlmeta[\"year\"] = 2025"
   ],
   "outputs": [],
   "execution_count": 18
  },
  {
   "cell_type": "markdown",
   "metadata": {},
   "source": "Let's explore the tree structure we just created.  Let's re-open the `TreeStore` and print out a dataset and some metadata."
  },
  {
   "cell_type": "code",
   "metadata": {
    "ExecuteTime": {
     "end_time": "2025-08-16T12:43:33.817036Z",
     "start_time": "2025-08-16T12:43:33.810541Z"
    }
   },
   "source": [
    "tstore2 = blosc2.TreeStore(\"example_tree.b2z\", mode=\"r\")\n",
    "list(tstore2)  # list all keys in the tree"
   ],
   "outputs": [
    {
     "data": {
      "text/plain": [
       "['/dir1', '/dir1/data2', '/data', '/dir1/data1']"
      ]
     },
     "execution_count": 19,
     "metadata": {},
     "output_type": "execute_result"
    }
   ],
   "execution_count": 19
  },
  {
   "cell_type": "code",
   "metadata": {
    "ExecuteTime": {
     "end_time": "2025-08-16T12:43:33.826828Z",
     "start_time": "2025-08-16T12:43:33.824430Z"
    }
   },
   "source": [
    "print(\"/dir1/data1:\\n\", tstore2[\"/dir1/data1\"][:])\n",
    "print(\"root metadata:\", tstore2.vlmeta[:])\n",
    "print(\"/dir1 metadata:\", tstore2[\"/dir1\"].vlmeta[:])"
   ],
   "outputs": [
    {
     "name": "stdout",
     "output_type": "stream",
     "text": [
      "/dir1/data1:\n",
      " [[1. 1. 1. 1. 1. 1. 1. 1. 1. 1.]\n",
      " [1. 1. 1. 1. 1. 1. 1. 1. 1. 1.]]\n",
      "root metadata: {'author': 'blosc2'}\n",
      "/dir1 metadata: {'year': 2025}\n"
     ]
    }
   ],
   "execution_count": 20
  },
  {
   "cell_type": "code",
   "metadata": {
    "ExecuteTime": {
     "end_time": "2025-08-16T12:43:33.904711Z",
     "start_time": "2025-08-16T12:43:33.840360Z"
    }
   },
   "source": [
    "for key, node in tstore2.items():\n",
    "    print(f\"Node: {key}, Data: {node[1] if isinstance(node, blosc2.NDArray) else node.vlmeta[:]}\")"
   ],
   "outputs": [
    {
     "name": "stdout",
     "output_type": "stream",
     "text": [
      "Node: /dir1, Data: {'year': 2025}\n",
      "Node: /dir1/data2, Data: [[0.10000001 0.10000011 0.10000021 ... 0.10009971 0.10009981 0.10009991]\n",
      " [0.10010001 0.10010011 0.10010021 ... 0.10019971 0.10019981 0.10019991]\n",
      " [0.10020001 0.10020011 0.10020021 ... 0.10029971 0.10029981 0.10029991]\n",
      " ...\n",
      " [0.19970002 0.19970012 0.19970022 ... 0.19979972 0.19979982 0.19979992]\n",
      " [0.19980002 0.19980012 0.19980022 ... 0.19989972 0.19989982 0.19989992]\n",
      " [0.19990002 0.19990012 0.19990022 ... 0.19999972 0.19999982 0.19999992]]\n",
      "Node: /data, Data: 2\n",
      "Node: /dir1/data1, Data: [1. 1. 1. 1. 1. 1. 1. 1. 1. 1.]\n"
     ]
    }
   ],
   "execution_count": 21
  },
  {
   "cell_type": "markdown",
   "metadata": {
    "ExecuteTime": {
     "end_time": "2025-08-16T12:35:45.380386Z",
     "start_time": "2025-08-16T12:35:45.379036Z"
    }
   },
   "source": "Note that all the data has been stored on a single file:"
  },
  {
   "cell_type": "code",
   "metadata": {
    "ExecuteTime": {
     "end_time": "2025-08-16T12:43:34.345051Z",
     "start_time": "2025-08-16T12:43:33.908988Z"
    }
   },
   "source": [
    "!ls -lh example_tree.b2z\n",
    "# !zipinfo example_tree.b2z  # only if you have zipinfo installed"
   ],
   "outputs": [
    {
     "name": "stdout",
     "output_type": "stream",
     "text": [
      "-rw-r--r--@ 1 faltet  staff   1.6M Aug 16 14:43 example_tree.b2z\r\n"
     ]
    }
   ],
   "execution_count": 22
  },
  {
   "cell_type": "markdown",
   "metadata": {},
   "source": "That's all for now.  There are more examples in the [examples directory of the git repository](https://github.com/Blosc/python-blosc2/tree/main/examples/ndarray) for you to explore.  Enjoy!"
  }
 ],
 "metadata": {
  "kernelspec": {
   "display_name": "Python 3 (ipykernel)",
   "language": "python",
   "name": "python3"
  },
  "language_info": {
   "codemirror_mode": {
    "name": "ipython",
    "version": 3
   },
   "file_extension": ".py",
   "mimetype": "text/x-python",
   "name": "python",
   "nbconvert_exporter": "python",
   "pygments_lexer": "ipython3",
   "version": "3.13.5"
  }
 },
 "nbformat": 4,
 "nbformat_minor": 4
}
