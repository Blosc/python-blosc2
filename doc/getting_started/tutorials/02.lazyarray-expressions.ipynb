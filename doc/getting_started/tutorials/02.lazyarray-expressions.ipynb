{
 "cells": [
  {
   "cell_type": "markdown",
   "metadata": {},
   "source": [
    "# Expressions containing NDArray objects\n",
    "\n",
    "Python-Blosc2 implements a powerful way to operate with NDArray arrays and other objects, called \"lazy expressions\".  A lazy expression is a lightweight object which stores a desired computation symbolically, with references to its operands (stored on disk or in memory), but does not execute until data is explicitly requested, e.g. if a slice of the computation result is requested. The lazy expression will then execute, but only on the necessary portion of the data, making it especially efficient, and avoiding large in-memory computations.\n",
    "\n",
    "In this tutorial, we will see how to do such lazy computations, which are especially useful when working with large arrays.\n"
   ]
  },
  {
   "cell_type": "code",
   "metadata": {},
   "source": [
    "import numpy as np\n",
    "\n",
    "import blosc2"
   ],
   "outputs": [],
   "execution_count": null
  },
  {
   "cell_type": "markdown",
   "metadata": {},
   "source": [
    "## A simple example\n",
    "First, let's create a couple of NDArray arrays. We're going to write them to disk since in principle we are interested in large arrays (so big that they can't fit in memory)."
   ]
  },
  {
   "cell_type": "code",
   "metadata": {},
   "source": [
    "shape = (500, 1000)\n",
    "a = blosc2.linspace(0, 1, np.prod(shape), dtype=np.float32, shape=shape, urlpath=\"a.b2nd\", mode=\"w\")\n",
    "b = blosc2.linspace(1, 2, np.prod(shape), dtype=np.float64, shape=shape, urlpath=\"b.b2nd\", mode=\"w\")"
   ],
   "outputs": [],
   "execution_count": null
  },
  {
   "cell_type": "markdown",
   "metadata": {},
   "source": "Now, let's create an expression that involves `a` and `b`, called `c`."
  },
  {
   "cell_type": "code",
   "metadata": {},
   "source": [
    "c = a**2 + b**2 + 2 * a * b + 1\n",
    "print(c.info)  # at this stage, the expression has not been computed yet"
   ],
   "outputs": [],
   "execution_count": null
  },
  {
   "cell_type": "markdown",
   "metadata": {},
   "source": [
    "We see that the type of `c` is a `LazyExpr` object.  This object is a placeholder for the actual computation that will be done when we compute it.  This is a very powerful feature because it allows us to build complex expressions without actually computing them until we really need the result.\n",
    "\n",
    "Now, let's compute it. `LazyExpr` objects follow the [LazyArray interface](../../reference/lazyarray.html), and this provides several ways for performing the computation, depending on the object we want as the desired output.\n",
    "\n",
    "#### 1. Returning a NDArray array\n",
    "First, let's use the `compute` method.  The result will be another NDArray array:"
   ]
  },
  {
   "cell_type": "code",
   "metadata": {},
   "source": [
    "d = c.compute()  # compute the expression\n",
    "print(f\"Class: {type(d)}\")\n",
    "print(f\"Compression ratio: {d.schunk.cratio:.2f}x\")"
   ],
   "outputs": [],
   "execution_count": null
  },
  {
   "cell_type": "markdown",
   "metadata": {},
   "source": "We can specify different compression parameters for the result.  For example, we can change the codec to `ZLIB`, use the bitshuffle filter, and the compression level set to 9:"
  },
  {
   "cell_type": "code",
   "metadata": {},
   "source": [
    "cparams = blosc2.CParams(codec=blosc2.Codec.ZLIB, filters=[blosc2.Filter.BITSHUFFLE], clevel=9)\n",
    "d = c.compute(cparams=cparams)\n",
    "print(f\"Compression ratio: {d.schunk.cratio:.2f}x\")"
   ],
   "outputs": [],
   "execution_count": null
  },
  {
   "cell_type": "markdown",
   "metadata": {},
   "source": "Or, we can store the result in a file:"
  },
  {
   "cell_type": "code",
   "metadata": {},
   "source": [
    "d = c.compute(urlpath=\"result.b2nd\", mode=\"w\")\n",
    "!ls -lh result.b2nd"
   ],
   "outputs": [],
   "execution_count": null
  },
  {
   "cell_type": "markdown",
   "metadata": {},
   "source": "or compute just a slice of the result, which will only compute the necessary chunks which intersect with the desired slice:"
  },
  {
   "cell_type": "code",
   "metadata": {},
   "source": [
    "d_slice = c.compute(item=slice(100, 200, 1))  # compute a slice of the expression"
   ],
   "outputs": [],
   "execution_count": null
  },
  {
   "cell_type": "markdown",
   "metadata": {},
   "source": [
    "What is happening when we call the ``compute`` method? The operands are all NDArray arrays, chunked and stored on disk. When the compute method is called, the expression is executed, chunk-by-chunk and the result stored, chunk-by-chunk. Hence at any given time, only a small amount of data (a chunk for each operand and the result) must be operated on in memory; and secondly, the computation is only performed on the necessary chunks required to give the result slice. Both operands and results are stored on disk here, so in fact you can operate with very large arrays in a very small memory footprint.\n",
    "#### 2. Returning a NumPy array\n",
    "Now, let's compute the expression and store the result in a NumPy array.  For this, we will use the `__getitem__` method. We may execute the expression with a slice, or without it, in which case the whole result will be computed:"
   ]
  },
  {
   "cell_type": "code",
   "metadata": {},
   "source": [
    "npd = d[100:200]  # compute a slice of the expression\n",
    "print(f\"Class: {type(npd)}, shape: {npd.shape}\")\n",
    "npd = d[:]  # compute the whole expression\n",
    "print(f\"Class: {type(npd)}, shape: {npd.shape}\")"
   ],
   "outputs": [],
   "execution_count": null
  },
  {
   "cell_type": "markdown",
   "metadata": {},
   "source": [
    "As you can see, in either case the result is a NumPy array now.\n",
    "\n",
    "Depending on your needs, you can choose to get the result as a NDArray array or as a NumPy array.  The former is more storage efficient, but the latter is more flexible when interacting with other libraries that do not support NDArray arrays, or for reading out data."
   ]
  },
  {
   "cell_type": "markdown",
   "metadata": {},
   "source": [
    "## Saving expressions to disk\n",
    "Lazy expressions may be saved to disk if all operands they refer to are also stored on disk.  For this, use the `save` method of ``LazyArray`` objects.  For example, let's save the expression `c` to disk:"
   ]
  },
  {
   "cell_type": "code",
   "metadata": {},
   "source": [
    "c = a**2 + b**2 + 2 * a * b + 1\n",
    "c.save(urlpath=\"expr.b2nd\")"
   ],
   "outputs": [],
   "execution_count": null
  },
  {
   "cell_type": "markdown",
   "metadata": {},
   "source": "We may then load the expression with the `open` function, and check to see that the addresses of the operands are correct, and proceed to computation:"
  },
  {
   "cell_type": "code",
   "metadata": {},
   "source": [
    "c2 = blosc2.open(\"expr.b2nd\")\n",
    "print(c2.info)\n",
    "d2 = c2.compute()\n",
    "print(f\"Result shape: {d2.shape}\")"
   ],
   "outputs": [],
   "execution_count": null
  },
  {
   "cell_type": "markdown",
   "metadata": {},
   "source": [
    "## Functions and Reductions\n",
    "#### Functions\n",
    "Lazy expressions also support many standard functions (essentially those available in NumPy), such as `sin`, `cos`, `exp`, `log`, etc.  Let's see an example:"
   ]
  },
  {
   "cell_type": "code",
   "metadata": {},
   "source": [
    "new_expr = blosc2.sin(a) + blosc2.cos(b) + blosc2.exp(a * b)\n",
    "print(f\"Class: {type(new_expr)}\")\n",
    "new_expr[1, :4]"
   ],
   "outputs": [],
   "execution_count": null
  },
  {
   "cell_type": "markdown",
   "metadata": {},
   "source": [
    "#### Reductions\n",
    "Reductions (mean, sum, variance etc.) are useful in many applications, such as data science, for summarising or *reducing* data. Reductions may also be incorporated as part of expressions, although their behaviour is somewhat different to that of other functions.  Let's see an example of a reduction:"
   ]
  },
  {
   "cell_type": "code",
   "metadata": {},
   "source": [
    "c = (a + b).sum()\n",
    "c"
   ],
   "outputs": [],
   "execution_count": null
  },
  {
   "cell_type": "markdown",
   "metadata": {},
   "source": [
    "As we can see, the result is a scalar (not a ``LazyExpr``). This is because reductions in expressions are always executed \"eagerly\" (i.e. on creation of the lazy expression).\n",
    "We can also specify the axis for the reduction:"
   ]
  },
  {
   "cell_type": "code",
   "metadata": {},
   "source": [
    "c = (a + b).sum(axis=1)\n",
    "print(f\"Shape of c: {c.shape}\")\n",
    "# Show the first 4 elements of the result\n",
    "c[:4]"
   ],
   "outputs": [],
   "execution_count": null
  },
  {
   "cell_type": "markdown",
   "metadata": {},
   "source": "Reductions can also be part of more complex expressions, but in this case the final result may be a lazy expression (only the reduction is executed eagerly and the full result stored):"
  },
  {
   "cell_type": "code",
   "metadata": {},
   "source": [
    "c = (a + b).sum(axis=0) + 2 * a + 1\n",
    "print(f\"Type of c: {type(c)}. Shape of c: {c.shape}\")\n",
    "# Show the first 4 elements of the result\n",
    "c[0, 0:4]"
   ],
   "outputs": [],
   "execution_count": null
  },
  {
   "cell_type": "markdown",
   "metadata": {},
   "source": [
    "The ``__getitem__`` method causes the remainder of the expression to execute (only using the relevant slices of the operands, including the result of the reduction `(a + b).sum(axis=0)`).\n",
    "\n",
    "Note that the result of the reduction above has a different shape `(500,)` to the operand `a`, but the expression is still computed correctly.  This is because the shape of the reduction is *compatible* with the shape of the operands according to the broadcasting convention."
   ]
  },
  {
   "cell_type": "markdown",
   "metadata": {},
   "source": [
    "## Broadcasting\n",
    "\n",
    "NumPy arrays support broadcasting, and so do NDArray arrays.  Let's see an example:\n"
   ]
  },
  {
   "cell_type": "code",
   "metadata": {},
   "source": [
    "b2 = b[0]  # take the first row of b\n",
    "print(f\"Shape of a: {a.shape}, shape of b2: {b2.shape}\")"
   ],
   "outputs": [],
   "execution_count": null
  },
  {
   "cell_type": "markdown",
   "metadata": {},
   "source": "We see that the shapes of `a` and `b2` are different.  However, as the shapes are compatible, we can still operate with them and the broadcasting will be done automatically (à la NumPy) and efficiently:"
  },
  {
   "cell_type": "code",
   "metadata": {},
   "source": [
    "c2 = a + b2\n",
    "d2 = c2.compute()\n",
    "print(f\"Shape: {d2.shape}\")"
   ],
   "outputs": [],
   "execution_count": null
  },
  {
   "cell_type": "markdown",
   "metadata": {},
   "source": [
    "## BONUS: Querying and Filtering NDArray arrays\n",
    "\n",
    "The Blosc2 compute engine enables one to perform lazy queries on NDArray arrays with structured types.  Let's see an example."
   ]
  },
  {
   "cell_type": "code",
   "metadata": {},
   "source": [
    "N = 1000_000\n",
    "rng = np.random.default_rng(seed=1)\n",
    "it = ((-x + 1, x - 2, rng.normal()) for x in range(N))\n",
    "sa = blosc2.fromiter(\n",
    "    it, dtype=[(\"A\", \"i4\"), (\"B\", \"f4\"), (\"C\", \"f8\")], shape=(N,), urlpath=\"sa-1M.b2nd\", mode=\"w\"\n",
    ")\n",
    "print(\"First 3 rows:\\n\", sa[:3])"
   ],
   "outputs": [],
   "execution_count": null
  },
  {
   "cell_type": "markdown",
   "metadata": {},
   "source": "One could select rows depending on the value of the different fields (`A`, `B`, `C`) in the following way, using a lazy boolean index"
  },
  {
   "cell_type": "code",
   "metadata": {},
   "source": [
    "A = sa[\"A\"]\n",
    "B = sa[\"B\"]\n",
    "C = sa[\"C\"]\n",
    "expr = sa[A > B]\n",
    "print(type(expr))\n",
    "expr[:]"
   ],
   "outputs": [],
   "execution_count": null
  },
  {
   "cell_type": "markdown",
   "metadata": {},
   "source": "In fact we can do the same on a more compact way by using an expression in string form inside the brackets. In both cases the result is a `LazyExpr` object, on which we then need to call the `__getitem__` or ``compute`` method to get an actual array-like result:"
  },
  {
   "cell_type": "code",
   "metadata": {},
   "source": [
    "expr = sa[\"A > B\"]\n",
    "print(type(expr))\n",
    "expr[:]"
   ],
   "outputs": [],
   "execution_count": null
  },
  {
   "cell_type": "markdown",
   "metadata": {},
   "source": [
    "The expression can also be a complex one:"
   ]
  },
  {
   "cell_type": "code",
   "metadata": {},
   "source": [
    "expr = sa[\"(A > B) & (sin(C) > .5)\"]\n",
    "expr[:]"
   ],
   "outputs": [],
   "execution_count": null
  },
  {
   "cell_type": "markdown",
   "metadata": {},
   "source": "Queries will also work on the individual fields (of type ``NDField``) which still possess references to the other fields of the parent array:"
  },
  {
   "cell_type": "code",
   "metadata": {},
   "source": [
    "print(type(C))\n",
    "C[\"A > B\"][:]"
   ],
   "outputs": [],
   "execution_count": null
  },
  {
   "cell_type": "markdown",
   "metadata": {},
   "source": "Reductions are also supported, although since the array dtype is bespoke, the ``sum`` method fails on the full array\n"
  },
  {
   "cell_type": "code",
   "metadata": {},
   "source": [
    "C[\"((C > 0) & (B < 0))\"].sum()  # succeeds\n",
    "# sa[\"((C > 0) & (B < 0))\"].sum() # fails"
   ],
   "outputs": [],
   "execution_count": null
  },
  {
   "cell_type": "markdown",
   "metadata": {},
   "source": "Finally, more complex queries can be done using the `where()` function.  For example, let's sum all the rows with the maximum of field `A` or field `B`:"
  },
  {
   "cell_type": "code",
   "metadata": {},
   "source": [
    "blosc2.where(A > B, A, B).sum()"
   ],
   "outputs": [],
   "execution_count": null
  },
  {
   "cell_type": "markdown",
   "metadata": {},
   "source": "Combining all this weaponry allows to query your data quickly. As the computation is lazy, all the operations are grouped and executed together for maximum performance. The only exception is that, when a reduction is found, it is computed eagerly, but it can still be part of more general expressions, as well as being able to be saved and loaded from disk."
  },
  {
   "cell_type": "markdown",
   "metadata": {},
   "source": [
    "## Summary\n",
    "\n",
    "In this section, we have seen how to perform computations with NDArray arrays: how to create lazy expressions, compute them, and save them to disk. Also, we have looked at performing reductions, broadcasting, queries and combinations of all three. Lazy expressions allow you to build and compute complex computations from operands that can be in-memory, on-disk or remote (see [`C2Array`](reference/c2array.html)) in a simple and effective way."
   ]
  }
 ],
 "metadata": {
  "kernelspec": {
   "display_name": "Python 3 (ipykernel)",
   "language": "python",
   "name": "python3"
  },
  "language_info": {
   "codemirror_mode": {
    "name": "ipython",
    "version": 3
   },
   "file_extension": ".py",
   "mimetype": "text/x-python",
   "name": "python",
   "nbconvert_exporter": "python",
   "pygments_lexer": "ipython3",
   "version": "3.12.3"
  }
 },
 "nbformat": 4,
 "nbformat_minor": 4
}
