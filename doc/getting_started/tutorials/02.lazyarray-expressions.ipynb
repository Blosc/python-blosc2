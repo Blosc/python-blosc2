{
 "cells": [
  {
   "cell_type": "markdown",
   "metadata": {},
   "source": [
    "# Expressions containing NDArray objects\n",
    "\n",
    "Python-Blosc2 implements a powerful way to operate with NDArray arrays and other objects, called \"lazy expressions\".  A lazy expression is a lightweight object which stores a desired computation symbolically, with references to its operands (stored on disk or in memory), but does not execute until data is explicitly requested, e.g. if a slice of the computation result is requested. The lazy expression will then execute, but only on the necessary portion of the data, making it especially efficient, and avoiding large in-memory computations.\n",
    "\n",
    "In this tutorial, we will see how to do such lazy computations, which are especially useful when working with large arrays, owing to this avoidance of costly in-memory temporaries.\n"
   ]
  },
  {
   "cell_type": "code",
   "execution_count": 1,
   "metadata": {
    "ExecuteTime": {
     "end_time": "2025-08-04T11:50:50.172225Z",
     "start_time": "2025-08-04T11:50:49.854010Z"
    }
   },
   "outputs": [],
   "source": [
    "import numpy as np\n",
    "\n",
    "import blosc2"
   ]
  },
  {
   "cell_type": "markdown",
   "metadata": {},
   "source": [
    "## A simple example\n",
    "First, let's create a couple of NDArray arrays. We're going to write them to disk since in principle we are interested in large arrays (so big that they can't fit in memory)."
   ]
  },
  {
   "cell_type": "code",
   "execution_count": 2,
   "metadata": {
    "ExecuteTime": {
     "end_time": "2025-08-04T11:50:50.305927Z",
     "start_time": "2025-08-04T11:50:50.182659Z"
    }
   },
   "outputs": [],
   "source": [
    "shape = (500, 1000)\n",
    "a = blosc2.linspace(0, 1, np.prod(shape), dtype=np.float32, shape=shape, urlpath=\"a.b2nd\", mode=\"w\")\n",
    "b = blosc2.linspace(1, 2, np.prod(shape), dtype=np.float64, shape=shape, urlpath=\"b.b2nd\", mode=\"w\")"
   ]
  },
  {
   "cell_type": "markdown",
   "metadata": {},
   "source": [
    "Now, let's create an expression that involves `a` and `b`, called `c`."
   ]
  },
  {
   "cell_type": "code",
   "execution_count": 3,
   "metadata": {
    "ExecuteTime": {
     "end_time": "2025-08-04T11:50:50.393958Z",
     "start_time": "2025-08-04T11:50:50.386111Z"
    }
   },
   "outputs": [
    {
     "name": "stdout",
     "output_type": "stream",
     "text": [
      "type       : LazyExpr\n",
      "expression : ((((o0 ** 2) + (o1 ** 2)) + ((2 * o0) * o1)) + 1)\n",
      "operands   : {'o0': 'a.b2nd', 'o1': 'b.b2nd'}\n",
      "shape      : (500, 1000)\n",
      "dtype      : float64\n",
      "\n"
     ]
    }
   ],
   "source": [
    "c = a**2 + b**2 + 2 * a * b + 1\n",
    "print(c.info)  # at this stage, the expression has not been computed yet"
   ]
  },
  {
   "cell_type": "markdown",
   "metadata": {},
   "source": [
    "We see that the type of `c` is a `LazyExpr` object.  This object is a placeholder for the actual computation that will be done when we compute the expression.  This is a very powerful feature because it allows us to build complex expressions without actually computing anything until we really need the result (or a portion of the result).\n",
    "\n",
    "Now, let's compute it. `LazyExpr` objects follow the [LazyArray interface](../../reference/lazyarray.html), and this provides several ways for performing the computation, depending on the object we want as the desired output.\n",
    "\n",
    "#### 1. Returning a NDArray array\n",
    "First, let's use the `compute` method.  The result will be another NDArray array:"
   ]
  },
  {
   "cell_type": "code",
   "execution_count": 4,
   "metadata": {
    "ExecuteTime": {
     "end_time": "2025-08-04T11:50:50.460942Z",
     "start_time": "2025-08-04T11:50:50.421027Z"
    }
   },
   "outputs": [
    {
     "name": "stdout",
     "output_type": "stream",
     "text": [
      "Class: <class 'blosc2.ndarray.NDArray'>\n",
      "Compression ratio: 1.89x\n"
     ]
    }
   ],
   "source": [
    "d = c.compute()  # compute the expression\n",
    "print(f\"Class: {type(d)}\")\n",
    "print(f\"Compression ratio: {d.schunk.cratio:.2f}x\")"
   ]
  },
  {
   "cell_type": "markdown",
   "metadata": {},
   "source": [
    "We can specify different compression parameters for the result.  For example, we can change the codec to `ZLIB`, use the bitshuffle filter, and set the compression level to 9:"
   ]
  },
  {
   "cell_type": "code",
   "execution_count": 5,
   "metadata": {
    "ExecuteTime": {
     "end_time": "2025-08-04T11:50:50.536543Z",
     "start_time": "2025-08-04T11:50:50.473118Z"
    }
   },
   "outputs": [
    {
     "name": "stdout",
     "output_type": "stream",
     "text": [
      "Compression ratio: 2.14x\n"
     ]
    }
   ],
   "source": [
    "cparams = blosc2.CParams(codec=blosc2.Codec.ZLIB, filters=[blosc2.Filter.BITSHUFFLE], clevel=9)\n",
    "d = c.compute(cparams=cparams)\n",
    "print(f\"Compression ratio: {d.schunk.cratio:.2f}x\")"
   ]
  },
  {
   "cell_type": "markdown",
   "metadata": {},
   "source": [
    "Or, we can write the result to disk:"
   ]
  },
  {
   "cell_type": "code",
   "execution_count": 6,
   "metadata": {
    "ExecuteTime": {
     "end_time": "2025-08-04T11:50:50.701927Z",
     "start_time": "2025-08-04T11:50:50.557731Z"
    }
   },
   "outputs": [
    {
     "name": "stdout",
     "output_type": "stream",
     "text": [
      "/bin/bash: warning: setlocale: LC_ALL: cannot change locale (en_US.UTF-8)\r\n",
      "-rw-r--r-- 1 lshaw lshaw 2.1M Aug  4 13:50 result.b2nd\r\n"
     ]
    }
   ],
   "source": [
    "d = c.compute(urlpath=\"result.b2nd\", mode=\"w\")\n",
    "!ls -lh result.b2nd"
   ]
  },
  {
   "cell_type": "markdown",
   "metadata": {},
   "source": [
    "or compute just a slice of the result, which will only compute the necessary chunks of the result which intersect with the desired slice:"
   ]
  },
  {
   "cell_type": "code",
   "execution_count": 7,
   "metadata": {
    "ExecuteTime": {
     "end_time": "2025-08-04T11:50:50.751445Z",
     "start_time": "2025-08-04T11:50:50.721398Z"
    }
   },
   "outputs": [],
   "source": [
    "d_slice = c.compute(item=slice(100, 200, 1))  # compute a slice of the expression"
   ]
  },
  {
   "cell_type": "markdown",
   "metadata": {},
   "source": [
    "What is happening when we call the ``compute`` method? The operands are all NDArray arrays, chunked and stored on disk. When the compute method is called, the expression is executed, chunk-by-chunk, and the result stored, chunk-by-chunk. Hence at any given time, only a small amount of data (a chunk for each operand and the result) must be operated on in memory; and secondly, the computation is only performed on the necessary chunks required to give the result slice. Both operands and results are stored on disk here, so in fact you can operate with very large arrays in a very small memory footprint.\n",
    "\n",
    "#### 2. Returning a NumPy array\n",
    "Now, let's compute the expression and store the result in a NumPy array.  For this, we will use the `__getitem__` method. We may execute the expression with a slice, or without it, in which case the whole result will be computed:"
   ]
  },
  {
   "cell_type": "code",
   "execution_count": 8,
   "metadata": {
    "ExecuteTime": {
     "end_time": "2025-08-04T11:50:50.778316Z",
     "start_time": "2025-08-04T11:50:50.763836Z"
    }
   },
   "outputs": [
    {
     "name": "stdout",
     "output_type": "stream",
     "text": [
      "Class: <class 'numpy.ndarray'>, shape: (100, 1000)\n",
      "Class: <class 'numpy.ndarray'>, shape: (500, 1000)\n"
     ]
    }
   ],
   "source": [
    "npd = d[100:200]  # compute a slice of the expression\n",
    "print(f\"Class: {type(npd)}, shape: {npd.shape}\")\n",
    "npd = d[:]  # compute the whole expression\n",
    "print(f\"Class: {type(npd)}, shape: {npd.shape}\")"
   ]
  },
  {
   "cell_type": "markdown",
   "metadata": {},
   "source": [
    "As you can see, in either case the result is a NumPy array now.\n",
    "\n",
    "Depending on your needs, you can choose to get the result as a NDArray array or as a NumPy array.  The former is more storage efficient, but the latter is more flexible when interacting with other libraries that do not support NDArray arrays, or for reading out data."
   ]
  },
  {
   "cell_type": "markdown",
   "metadata": {},
   "source": [
    "## Saving expressions to disk\n",
    "Lazy expressions may be saved to disk if all operands they refer to are also stored on disk.  For this, use the `save` method of ``LazyArray`` objects.  For example, let's save the expression `c` to disk:"
   ]
  },
  {
   "cell_type": "code",
   "execution_count": 9,
   "metadata": {
    "ExecuteTime": {
     "end_time": "2025-08-04T11:50:50.809771Z",
     "start_time": "2025-08-04T11:50:50.794160Z"
    }
   },
   "outputs": [],
   "source": [
    "c = a**2 + b**2 + 2 * a * b + 1\n",
    "c.save(urlpath=\"expr.b2nd\")"
   ]
  },
  {
   "cell_type": "markdown",
   "metadata": {},
   "source": [
    "We may then load the expression with the `open` function, and check to see that the addresses of the operands are correct, and proceed to computation:"
   ]
  },
  {
   "cell_type": "code",
   "execution_count": 10,
   "metadata": {
    "ExecuteTime": {
     "end_time": "2025-08-04T11:50:50.860104Z",
     "start_time": "2025-08-04T11:50:50.820895Z"
    }
   },
   "outputs": [
    {
     "name": "stdout",
     "output_type": "stream",
     "text": [
      "type       : LazyExpr\n",
      "expression : (o0 ** 2 + o1 ** 2 + 2 * o0 * o1 + 1)\n",
      "operands   : {'o0': 'a.b2nd', 'o1': 'b.b2nd'}\n",
      "shape      : (500, 1000)\n",
      "dtype      : float64\n",
      "\n",
      "Result shape: (500, 1000)\n"
     ]
    }
   ],
   "source": [
    "c2 = blosc2.open(\"expr.b2nd\")\n",
    "print(c2.info)\n",
    "d2 = c2.compute()\n",
    "print(f\"Result shape: {d2.shape}\")"
   ]
  },
  {
   "cell_type": "markdown",
   "metadata": {},
   "source": [
    "## Functions and Reductions\n",
    "#### Functions\n",
    "Lazy expressions also support many standard functions (essentially those available in NumPy), such as `sin`, `cos`, `exp`, `log`, etc.  Let's see an example:"
   ]
  },
  {
   "cell_type": "code",
   "execution_count": 11,
   "metadata": {
    "ExecuteTime": {
     "end_time": "2025-08-04T11:50:50.885974Z",
     "start_time": "2025-08-04T11:50:50.872624Z"
    }
   },
   "outputs": [
    {
     "name": "stdout",
     "output_type": "stream",
     "text": [
      "Class: <class 'blosc2.lazyexpr.LazyExpr'>\n"
     ]
    },
    {
     "data": {
      "text/plain": [
       "array([1.5426243 , 1.54262662, 1.54262895, 1.54263128])"
      ]
     },
     "execution_count": 11,
     "metadata": {},
     "output_type": "execute_result"
    }
   ],
   "source": [
    "new_expr = blosc2.sin(a) + blosc2.cos(b) + blosc2.exp(a * b)\n",
    "print(f\"Class: {type(new_expr)}\")\n",
    "new_expr[1, :4]"
   ]
  },
  {
   "cell_type": "markdown",
   "metadata": {},
   "source": [
    "#### Reductions\n",
    "Reductions (mean, sum, variance etc.) are useful in many applications, such as data science, for summarising or *reducing* data. Reductions may also be incorporated as part of expressions, although their behaviour is somewhat different to that of other functions.  Let's see an example of a reduction:"
   ]
  },
  {
   "cell_type": "code",
   "execution_count": 12,
   "metadata": {
    "ExecuteTime": {
     "end_time": "2025-08-04T11:50:50.945344Z",
     "start_time": "2025-08-04T11:50:50.922371Z"
    }
   },
   "outputs": [
    {
     "data": {
      "text/plain": [
       "np.float64(999999.9999999473)"
      ]
     },
     "execution_count": 12,
     "metadata": {},
     "output_type": "execute_result"
    }
   ],
   "source": [
    "c = (a + b).sum()\n",
    "c"
   ]
  },
  {
   "cell_type": "markdown",
   "metadata": {},
   "source": [
    "As we can see, the result is a scalar (not a ``LazyExpr``). This is because reductions in expressions are always executed \"eagerly\" (i.e. on creation of the lazy expression).\n",
    "We can also specify the axis for the reduction:"
   ]
  },
  {
   "cell_type": "code",
   "execution_count": 13,
   "metadata": {
    "ExecuteTime": {
     "end_time": "2025-08-04T11:50:50.990639Z",
     "start_time": "2025-08-04T11:50:50.969316Z"
    }
   },
   "outputs": [
    {
     "name": "stdout",
     "output_type": "stream",
     "text": [
      "Shape of c: (500,)\n"
     ]
    },
    {
     "data": {
      "text/plain": [
       "array([1001.998004  , 1005.998012  , 1009.99802   , 1013.99802799])"
      ]
     },
     "execution_count": 13,
     "metadata": {},
     "output_type": "execute_result"
    }
   ],
   "source": [
    "c = (a + b).sum(axis=1)\n",
    "print(f\"Shape of c: {c.shape}\")\n",
    "# Show the first 4 elements of the result\n",
    "c[:4]"
   ]
  },
  {
   "cell_type": "markdown",
   "metadata": {},
   "source": [
    "Reductions can also be part of more complex expressions, but in this case the final result may be a lazy expression (only the reduction is executed eagerly and its result stored as an operand in the full expression):"
   ]
  },
  {
   "cell_type": "code",
   "execution_count": 14,
   "metadata": {
    "ExecuteTime": {
     "end_time": "2025-08-04T11:50:51.032735Z",
     "start_time": "2025-08-04T11:50:51.009126Z"
    }
   },
   "outputs": [
    {
     "name": "stdout",
     "output_type": "stream",
     "text": [
      "Type of c: <class 'blosc2.lazyexpr.LazyExpr'>. Shape of c: (500, 1000)\n"
     ]
    },
    {
     "data": {
      "text/plain": [
       "array([1000.0010009 , 1000.00300336, 1000.00500598, 1000.00700854])"
      ]
     },
     "execution_count": 14,
     "metadata": {},
     "output_type": "execute_result"
    }
   ],
   "source": [
    "c = (a + b).sum(axis=0) + 2 * a + 1\n",
    "print(f\"Type of c: {type(c)}. Shape of c: {c.shape}\")\n",
    "# Show the first 4 elements of the result\n",
    "c[0, 0:4]"
   ]
  },
  {
   "cell_type": "markdown",
   "metadata": {},
   "source": [
    "The ``__getitem__`` method causes the remainder of the expression to execute (only using the relevant slices of the operands, including the result of the reduction `(a + b).sum(axis=0)`).\n",
    "\n",
    "Note that the result of the reduction above has a different shape `(500,)` to the operand `a`, but the expression is still computed correctly.  This is because the shape of the reduction is *compatible* with the shape of the operands according to the broadcasting convention."
   ]
  },
  {
   "cell_type": "markdown",
   "metadata": {},
   "source": [
    "## Broadcasting\n",
    "\n",
    "NumPy arrays support broadcasting, and so do NDArray arrays.  Let's see an example:\n"
   ]
  },
  {
   "cell_type": "code",
   "execution_count": 15,
   "metadata": {
    "ExecuteTime": {
     "end_time": "2025-08-04T11:50:51.053484Z",
     "start_time": "2025-08-04T11:50:51.048659Z"
    }
   },
   "outputs": [
    {
     "name": "stdout",
     "output_type": "stream",
     "text": [
      "Shape of a: (500, 1000), shape of b2: (1000,)\n"
     ]
    }
   ],
   "source": [
    "b2 = b[0]  # take the first row of b\n",
    "print(f\"Shape of a: {a.shape}, shape of b2: {b2.shape}\")"
   ]
  },
  {
   "cell_type": "markdown",
   "metadata": {},
   "source": [
    "We see that the shapes of `a` and `b2` are different.  However, as the shapes are compatible, we can still operate with them and the broadcasting will be done automatically (à la NumPy) and efficiently:"
   ]
  },
  {
   "cell_type": "code",
   "execution_count": 16,
   "metadata": {
    "ExecuteTime": {
     "end_time": "2025-08-04T11:50:51.108152Z",
     "start_time": "2025-08-04T11:50:51.090441Z"
    }
   },
   "outputs": [
    {
     "name": "stdout",
     "output_type": "stream",
     "text": [
      "Shape: (500, 1000)\n"
     ]
    }
   ],
   "source": [
    "c2 = a + b2\n",
    "d2 = c2.compute()\n",
    "print(f\"Shape: {d2.shape}\")"
   ]
  },
  {
   "cell_type": "markdown",
   "metadata": {},
   "source": [
    "## BONUS: Querying and Filtering NDArray arrays\n",
    "\n",
    "The Blosc2 compute engine enables one to perform lazy queries on NDArray arrays with structured types.  Let's see an example."
   ]
  },
  {
   "cell_type": "code",
   "execution_count": 17,
   "metadata": {
    "ExecuteTime": {
     "end_time": "2025-08-04T11:50:52.107060Z",
     "start_time": "2025-08-04T11:50:51.129083Z"
    }
   },
   "outputs": [
    {
     "name": "stdout",
     "output_type": "stream",
     "text": [
      "First 3 rows:\n",
      " [( 1, -2., 0.34558419) ( 0, -1., 0.82161814) (-1,  0., 0.33043708)]\n"
     ]
    }
   ],
   "source": [
    "N = 1000_000\n",
    "rng = np.random.default_rng(seed=1)\n",
    "it = ((-x + 1, x - 2, rng.normal()) for x in range(N))\n",
    "sa = blosc2.fromiter(\n",
    "    it, dtype=[(\"A\", \"i4\"), (\"B\", \"f4\"), (\"C\", \"f8\")], shape=(N,), urlpath=\"sa-1M.b2nd\", mode=\"w\"\n",
    ")\n",
    "print(\"First 3 rows:\\n\", sa[:3])"
   ]
  },
  {
   "cell_type": "markdown",
   "metadata": {},
   "source": [
    "One could select rows depending on the value of the different fields (`A`, `B`, `C`) in the following way, using a lazy boolean index"
   ]
  },
  {
   "cell_type": "code",
   "execution_count": 18,
   "metadata": {
    "ExecuteTime": {
     "end_time": "2025-08-04T11:50:52.155506Z",
     "start_time": "2025-08-04T11:50:52.123899Z"
    }
   },
   "outputs": [
    {
     "name": "stdout",
     "output_type": "stream",
     "text": [
      "<class 'blosc2.lazyexpr.LazyExpr'>\n"
     ]
    },
    {
     "data": {
      "text/plain": [
       "array([(1, -2., 0.34558419), (0, -1., 0.82161814)],\n",
       "      dtype=[('A', '<i4'), ('B', '<f4'), ('C', '<f8')])"
      ]
     },
     "execution_count": 18,
     "metadata": {},
     "output_type": "execute_result"
    }
   ],
   "source": [
    "A = sa[\"A\"]\n",
    "B = sa[\"B\"]\n",
    "C = sa[\"C\"]\n",
    "expr = sa[A > B]\n",
    "print(type(expr))\n",
    "expr[:]"
   ]
  },
  {
   "cell_type": "markdown",
   "metadata": {},
   "source": [
    "In fact we can do the same in a more compact way by using an expression in string form inside the brackets. In both cases the result is a `LazyExpr` object, on which we then need to call the `__getitem__` or ``compute`` method to get an actual array-like result:"
   ]
  },
  {
   "cell_type": "code",
   "execution_count": 19,
   "metadata": {
    "ExecuteTime": {
     "end_time": "2025-08-04T11:50:52.199781Z",
     "start_time": "2025-08-04T11:50:52.177998Z"
    }
   },
   "outputs": [
    {
     "name": "stdout",
     "output_type": "stream",
     "text": [
      "<class 'blosc2.lazyexpr.LazyExpr'>\n"
     ]
    },
    {
     "data": {
      "text/plain": [
       "array([(1, -2., 0.34558419), (0, -1., 0.82161814)],\n",
       "      dtype=[('A', '<i4'), ('B', '<f4'), ('C', '<f8')])"
      ]
     },
     "execution_count": 19,
     "metadata": {},
     "output_type": "execute_result"
    }
   ],
   "source": [
    "expr = sa[\"A > B\"]\n",
    "print(type(expr))\n",
    "expr[:]"
   ]
  },
  {
   "cell_type": "markdown",
   "metadata": {},
   "source": [
    "The expression can be arbitrarily complex:"
   ]
  },
  {
   "cell_type": "code",
   "execution_count": 20,
   "metadata": {
    "ExecuteTime": {
     "end_time": "2025-08-04T11:50:52.261579Z",
     "start_time": "2025-08-04T11:50:52.236699Z"
    }
   },
   "outputs": [
    {
     "data": {
      "text/plain": [
       "array([(0, -1., 0.82161814)],\n",
       "      dtype=[('A', '<i4'), ('B', '<f4'), ('C', '<f8')])"
      ]
     },
     "execution_count": 20,
     "metadata": {},
     "output_type": "execute_result"
    }
   ],
   "source": [
    "expr = sa[\"(A > B) & (sin(C) > .5)\"]\n",
    "expr[:]"
   ]
  },
  {
   "cell_type": "markdown",
   "metadata": {},
   "source": [
    "Queries will also work on the individual fields (of type ``NDField``), as they still possess references to the other fields of the parent array:"
   ]
  },
  {
   "cell_type": "code",
   "execution_count": 21,
   "metadata": {
    "ExecuteTime": {
     "end_time": "2025-08-04T11:50:52.312042Z",
     "start_time": "2025-08-04T11:50:52.293234Z"
    }
   },
   "outputs": [
    {
     "name": "stdout",
     "output_type": "stream",
     "text": [
      "<class 'blosc2.ndarray.NDField'>\n"
     ]
    },
    {
     "data": {
      "text/plain": [
       "array([0.34558419, 0.82161814])"
      ]
     },
     "execution_count": 21,
     "metadata": {},
     "output_type": "execute_result"
    }
   ],
   "source": [
    "print(type(C))\n",
    "C[\"A > B\"][:]"
   ]
  },
  {
   "cell_type": "markdown",
   "metadata": {},
   "source": [
    "Reductions are also supported, although since the array dtype is bespoke, the ``sum`` method fails on the full array\n"
   ]
  },
  {
   "cell_type": "code",
   "execution_count": 22,
   "metadata": {
    "ExecuteTime": {
     "end_time": "2025-08-04T11:50:52.362877Z",
     "start_time": "2025-08-04T11:50:52.338100Z"
    }
   },
   "outputs": [
    {
     "data": {
      "text/plain": [
       "np.float64(1.1672023355659444)"
      ]
     },
     "execution_count": 22,
     "metadata": {},
     "output_type": "execute_result"
    }
   ],
   "source": [
    "C[\"((C > 0) & (B < 0))\"].sum()  # succeeds\n",
    "# sa[\"((C > 0) & (B < 0))\"].sum() # fails"
   ]
  },
  {
   "cell_type": "markdown",
   "metadata": {},
   "source": [
    "Finally, more complex queries can be done using the `where()` function.  For example, let's sum all the rows with the maximum of field `A` or field `B`:"
   ]
  },
  {
   "cell_type": "code",
   "execution_count": 23,
   "metadata": {
    "ExecuteTime": {
     "end_time": "2025-08-04T11:50:52.422038Z",
     "start_time": "2025-08-04T11:50:52.396181Z"
    }
   },
   "outputs": [
    {
     "data": {
      "text/plain": [
       "np.float32(499997670000.0)"
      ]
     },
     "execution_count": 23,
     "metadata": {},
     "output_type": "execute_result"
    }
   ],
   "source": [
    "blosc2.where(A > B, A, B).sum()"
   ]
  },
  {
   "cell_type": "markdown",
   "metadata": {},
   "source": [
    "Combining all this weaponry allows you to query your data quickly. As the computation is lazy, all the operations are grouped and executed together for maximum performance. The only exception is that, when a reduction is found, it is computed eagerly, but it can still be part of more general expressions, and can be saved to and loaded from disk.\n",
    "\n",
    "Now that we're finished, let's delete the files we wrote to memory to clean up our directory.\n"
   ]
  },
  {
   "cell_type": "code",
   "execution_count": 24,
   "metadata": {
    "ExecuteTime": {
     "end_time": "2025-08-04T11:50:52.455707Z",
     "start_time": "2025-08-04T11:50:52.449598Z"
    }
   },
   "outputs": [],
   "source": [
    "blosc2.remove_urlpath(\"a.b2nd\")\n",
    "blosc2.remove_urlpath(\"b.b2nd\")\n",
    "blosc2.remove_urlpath(\"expr.b2nd\")\n",
    "blosc2.remove_urlpath(\"sa-1M.b2nd\")\n",
    "blosc2.remove_urlpath(\"result.b2nd\")"
   ]
  },
  {
   "cell_type": "markdown",
   "metadata": {},
   "source": [
    "## Summary\n",
    "\n",
    "In this section, we have seen how to perform computations with NDArray arrays: how to create lazy expressions, compute them, and save them to disk. Also, we have looked at performing reductions, broadcasting, queries and combinations of all three. Lazy expressions allow you to build and compute complex computations from operands that can be in-memory, on-disk or remote (see [`C2Array`](reference/c2array.html)) in a simple and effective way."
   ]
  }
 ],
 "metadata": {
  "kernelspec": {
   "display_name": "Python 3 (ipykernel)",
   "language": "python",
   "name": "python3"
  },
  "language_info": {
   "codemirror_mode": {
    "name": "ipython",
    "version": 3
   },
   "file_extension": ".py",
   "mimetype": "text/x-python",
   "name": "python",
   "nbconvert_exporter": "python",
   "pygments_lexer": "ipython3",
   "version": "3.13.5"
  }
 },
 "nbformat": 4,
 "nbformat_minor": 4
}
