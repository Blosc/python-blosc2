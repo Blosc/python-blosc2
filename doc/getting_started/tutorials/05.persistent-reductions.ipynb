{
 "cells": [
  {
   "cell_type": "markdown",
   "id": "79426a2f11e6c3cb",
   "metadata": {},
   "source": [
    "# Advanced Lazy Expressions and Persistent Reductions\n",
    "\n",
    "We're now going to more fully detail Blosc2’s capabilities for lazy computation in Python. In previous tutorials we have hinted at the power of lazy expressions, and in this tutorial we'll demonstrate exactly how lazy expressions optimize performance by deferring computations. Postponing the computation of the expression until it is actually needed means we can avoid large in-memory temporaries, optimizing memory usage and processing.\n",
    "\n",
    "However, as mentioned previously, reductions are always computed eagerly when using regular Python expressions with Blosc2 operands. Thus, imprudent use of them could render the lazy expression technique ineffective. Fortunately Blosc2 implements a method to avoid eager computations even when calculating reductions by using a string version of the expression in combination with the `blosc2.lazyexpr` constructor. We will show how to create and save a lazy expression in this way, and then compute it to obtain the desired results.\n",
    "\n",
    "We'll also provide some examples which show how powerful broadcasting can be in Blosc2, and how we can use it to get metadata about the result of a lazy expression without performing the full computation. Access to structural information of the computation result, such as shape and dtype, is hence rapid - even for arbitrarily large arrays. Finally, we'll demonstrate how such metadata will dynamically adapt to changes in the dimensions and values of the original operands, stored on disk.\n",
    "\n"
   ]
  },
  {
   "cell_type": "markdown",
   "id": "f8c69fe846b1e13d",
   "metadata": {},
   "source": [
    "## Operands as arrays of different shape\n",
    "\n",
    "We will now create the operands, using a different shape for each of them - remember that this is no problem for Blosc2, which fully supports broadcasting, including for lazy expressions."
   ]
  },
  {
   "cell_type": "code",
   "execution_count": 1,
   "id": "initial_id",
   "metadata": {
    "ExecuteTime": {
     "end_time": "2025-08-04T11:57:04.636699Z",
     "start_time": "2025-08-04T11:57:04.339091Z"
    }
   },
   "outputs": [],
   "source": [
    "import time\n",
    "\n",
    "import blosc2\n",
    "\n",
    "# Define dimensions of arrays\n",
    "dim_a = (200, 300, 400)  # 3D array\n",
    "dim_b = (200, 400)  # 2D array\n",
    "dim_c = 400  # 1D array\n",
    "\n",
    "# Create arrays with specific dimensions and values\n",
    "a = blosc2.full(dim_a, 1, urlpath=\"a.b2nd\", mode=\"w\")\n",
    "b = blosc2.full(dim_b, 2, urlpath=\"b.b2nd\", mode=\"w\")\n",
    "c = blosc2.full(dim_c, 3, urlpath=\"c.b2nd\", mode=\"w\")"
   ]
  },
  {
   "cell_type": "markdown",
   "id": "7a6a6d076255afaf",
   "metadata": {},
   "source": [
    "## Creating and using a string lazy expression\n",
    "\n",
    "First, let's build a string expression that sums the contents of array `a` and performs a multiplication with `b` and `c`. In this context, creating a string version of the expression is critical; otherwise, the sum reduction will be computed eagerly.\n",
    "\n",
    "We may then convert the string to a ``LazyExpr`` object using the `blosc2.lazyexpr` constructor, along with a dictionary which maps the names of the operands within the expression to their corresponding arrays. Since the operands are saved on disk, recall that we can also save the expression to disk.\n"
   ]
  },
  {
   "cell_type": "code",
   "execution_count": 2,
   "id": "b8f05b87b99d38ec",
   "metadata": {
    "ExecuteTime": {
     "end_time": "2025-08-04T11:57:04.723139Z",
     "start_time": "2025-08-04T11:57:04.644938Z"
    }
   },
   "outputs": [],
   "source": [
    "# Expression that sums all elements of 'a' and multiplies 'b' by 'c'\n",
    "expression = \"a.sum() + b * c\"\n",
    "# Define the operands for the expression\n",
    "operands = {\"a\": a, \"b\": b, \"c\": c}\n",
    "# Create a lazy expression\n",
    "lazy_expression = blosc2.lazyexpr(expression, operands)\n",
    "# Save the lazy expression to the specified path\n",
    "url_path = \"my_expr.b2nd\"\n",
    "lazy_expression.save(urlpath=url_path, mode=\"w\")"
   ]
  },
  {
   "cell_type": "markdown",
   "id": "87d517ab1f3ec0fa",
   "metadata": {},
   "source": [
    "#### Result Metadata\n",
    "Note that even though the expression has not been computed, we can access some metadata for the computation result, such as its shape and dtype. On creation, a ``LazyExpr`` object uses operand metadata and casting and broadcasting rules to work out some information about the result."
   ]
  },
  {
   "cell_type": "code",
   "execution_count": 3,
   "id": "632aacd442588477",
   "metadata": {
    "ExecuteTime": {
     "end_time": "2025-08-04T11:57:04.818224Z",
     "start_time": "2025-08-04T11:57:04.810162Z"
    }
   },
   "outputs": [
    {
     "name": "stdout",
     "output_type": "stream",
     "text": [
      "Result will have shape (200, 400) and dtype int64\n"
     ]
    }
   ],
   "source": [
    "print(f\"Result will have shape {lazy_expression.shape} and dtype {lazy_expression.dtype}\")"
   ]
  },
  {
   "cell_type": "markdown",
   "id": "26a1fb93b2faf5a",
   "metadata": {},
   "source": [
    "\n",
    "\n",
    "**REFRESHER**: Broadcasting allows arrays of different shapes (dimensions) to align for mathematical operations, such as addition or multiplication, without the need to enlarge operands by replicating data. The main idea is that smaller dimensions are \"stretched\" to larger dimensions in such a way that the operation may be performed consistently.\n",
    "\n",
    "<img src=\"images/lazyexpr-broadcast.png\" width=\"1000\"/>\n",
    "\n",
    "See the [NumPy docs on broadcasting](https://numpy.org/doc/stable/user/basics.broadcasting.html) for more information.\n",
    "\n",
    "#### Computing the lazy expression\n",
    "Now that we have saved the expression, we can open and compute it to obtain the result. Let's see how this is done."
   ]
  },
  {
   "cell_type": "code",
   "execution_count": 4,
   "id": "86b48c7707cea2a7",
   "metadata": {
    "ExecuteTime": {
     "end_time": "2025-08-04T11:57:04.990126Z",
     "start_time": "2025-08-04T11:57:04.849352Z"
    }
   },
   "outputs": [
    {
     "name": "stdout",
     "output_type": "stream",
     "text": [
      "(o0.sum() + o1 * o2)\n",
      "(200, 400)\n",
      "Time to get shape:0.00012\n",
      "Time to compute:0.09958\n",
      "Result of the operation (slice):\n",
      "[[24000006 24000006 24000006 24000006]\n",
      " [24000006 24000006 24000006 24000006]]\n"
     ]
    }
   ],
   "source": [
    "lazy_expression = blosc2.open(urlpath=url_path)\n",
    "# Print the lazy expression and its shape\n",
    "print(lazy_expression)\n",
    "t1 = time.time()\n",
    "print(lazy_expression.shape)\n",
    "t2 = time.time()\n",
    "print(f\"Time to get shape:{t2 - t1:.5f}\")\n",
    "t1 = time.time()\n",
    "result1 = lazy_expression.compute()\n",
    "t2 = time.time()\n",
    "print(f\"Time to compute:{t2 - t1:.5f}\")\n",
    "print(\"Result of the operation (slice):\")\n",
    "print(result1[:2, :4])  # Print a small slice of the result for demonstration"
   ]
  },
  {
   "cell_type": "markdown",
   "id": "362cfd5eb88b9bb6",
   "metadata": {},
   "source": [
    "As we can observe when printing the lazy expression and its shape, the time required to get the `shape` is significantly shorter than the time to compute the result. This is because `lazy_expression.shape` does not need to compute all the elements of the expression; instead, it only accesses the **metadata** of the operands, from which it infers the necessary information about the dimensions and type of the result.\n",
    "\n",
    "Thanks to this metadata, if we know the dimensions of the arrays involved in the operation (such as in the case of `a.sum() + b * c`), Blosc2 can **quickly infer the resulting shape** without performing intensive calculations. This allows for fast access to structural information (like the `shape` and `dtype`) without operating on the actual data.\n",
    "\n",
    "In contrast, when we call `lazy_expression.compute()`, all the necessary operations to calculate the final result are executed. Here is where the real computation takes place, and as we can see from the time, this process takes longer."
   ]
  },
  {
   "cell_type": "markdown",
   "id": "a19ba0d14053d1a0",
   "metadata": {},
   "source": [
    "## Dynamic adaptation and lazy expressions\n",
    "\n",
    "In this section, we will see how persisted lazy expressions automatically adapt to changes in the dimensions and values of the original operands, such as the arrays `a` and `b`."
   ]
  },
  {
   "cell_type": "code",
   "execution_count": 5,
   "id": "61bcd7d60ec69004",
   "metadata": {
    "ExecuteTime": {
     "end_time": "2025-08-04T11:57:05.284431Z",
     "start_time": "2025-08-04T11:57:05.005080Z"
    }
   },
   "outputs": [
    {
     "name": "stdout",
     "output_type": "stream",
     "text": [
      "(300, 400)\n",
      "Time to get shape:0.00020\n",
      "Time to compute:0.13406\n",
      "Result of the operation (slice):\n",
      "[[60000006 60000006 60000006 60000006]\n",
      " [60000006 60000006 60000006 60000006]]\n"
     ]
    }
   ],
   "source": [
    "# Resizing arrays and updating values to see changes in the expression result\n",
    "a.resize((300, 300, 400))\n",
    "a[200:300] = 3\n",
    "b.resize((300, 400))\n",
    "b[200:300] = 5\n",
    "# Open the saved file\n",
    "lazy_expression = blosc2.open(urlpath=url_path)\n",
    "t1 = time.time()\n",
    "print(lazy_expression.shape)\n",
    "t2 = time.time()\n",
    "print(f\"Time to get shape:{t2 - t1:.5f}\")\n",
    "t1 = time.time()\n",
    "result2 = lazy_expression.compute()\n",
    "t2 = time.time()\n",
    "print(f\"Time to compute:{t2 - t1:.5f}\")\n",
    "print(\"Result of the operation (slice):\")\n",
    "print(result2[:2, :4])"
   ]
  },
  {
   "cell_type": "markdown",
   "id": "d82492bf518c5a39",
   "metadata": {},
   "source": [
    "After increasing the dimensions of the original arrays by modifying the values of `a` and `b`, we *reopen* the lazy expression (although we do not modify it explicitly). Upon reopening, the lazy expression updates its operand references to refer to the new operand values. From there, we can see that the metadata and final result indeed reflect the changes in the array operands. As before, obtaining the updated structural information (the `shape`) of the expression is a quick process, since using updated **metadata** bypasses the need to do the full computation with the new operands (which takes more time).\n",
    "\n",
    "Note that the dynamic adaptation of lazy expressions to changes in the operands is not limited to the string lazy expression interface; it also works just as well with the Python expression interface we have seen in the other tutorials:"
   ]
  },
  {
   "cell_type": "code",
   "execution_count": 6,
   "id": "d5169ae83e2c0802",
   "metadata": {
    "ExecuteTime": {
     "end_time": "2025-08-04T11:57:05.354938Z",
     "start_time": "2025-08-04T11:57:05.296934Z"
    }
   },
   "outputs": [
    {
     "name": "stdout",
     "output_type": "stream",
     "text": [
      "Old a: [ 1  2  3  4  5  6  7  8  9 10]\n",
      "New a: [11 12 13 14 15 16 17 18 19 20]\n"
     ]
    }
   ],
   "source": [
    "a = blosc2.arange(0, 10, urlpath=\"a.b2nd\", mode=\"w\")\n",
    "lexpr = a + 1\n",
    "print(f\"Old a: {lexpr[:]}\")\n",
    "a = blosc2.arange(10, 20, urlpath=\"a.b2nd\", mode=\"w\")\n",
    "print(f\"New a: {lexpr[:]}\")  # This will still compute the original expression"
   ]
  },
  {
   "cell_type": "code",
   "execution_count": 7,
   "id": "9087d47c90af03ba",
   "metadata": {
    "ExecuteTime": {
     "end_time": "2025-08-04T11:57:05.389151Z",
     "start_time": "2025-08-04T11:57:05.384494Z"
    }
   },
   "outputs": [],
   "source": [
    "# Clean up the created files\n",
    "blosc2.remove_urlpath(\"a.b2nd\")\n",
    "blosc2.remove_urlpath(\"b.b2nd\")\n",
    "blosc2.remove_urlpath(\"c.b2nd\")\n",
    "blosc2.remove_urlpath(\"my_expr.b2nd\")"
   ]
  },
  {
   "cell_type": "markdown",
   "id": "776fbc7e82d5477f",
   "metadata": {},
   "source": [
    "## Conclusion\n",
    "\n",
    "The dynamic adaptation of lazy expressions to changes in the dimensions of array operands illustrates the power of deferred computations in Blosc2. By deferring the computation of expressions until necessary, Blosc2 can quickly access structural information about the result, such as the `shape` and `dtype`, even when operands **change** on disk, without performing intensive calculations. We can also avoid memory-starving temporaries, freeing up resources for the truly necessary computation steps. Broadcasting support also facilitates working with arrays of different sizes offering a powerful and intuitive interface for defining expressions.\n"
   ]
  }
 ],
 "metadata": {
  "kernelspec": {
   "display_name": "Python 3 (ipykernel)",
   "language": "python",
   "name": "python3"
  },
  "language_info": {
   "codemirror_mode": {
    "name": "ipython",
    "version": 3
   },
   "file_extension": ".py",
   "mimetype": "text/x-python",
   "name": "python",
   "nbconvert_exporter": "python",
   "pygments_lexer": "ipython3",
   "version": "3.13.5"
  }
 },
 "nbformat": 4,
 "nbformat_minor": 5
}
