{
 "cells": [
  {
   "cell_type": "markdown",
   "id": "4805cb5f-cff6-46f0-97a7-caf6b46cf30c",
   "metadata": {
    "ExecuteTime": {
     "end_time": "2025-10-13T05:29:01.209170Z",
     "start_time": "2025-10-13T05:29:01.205387Z"
    }
   },
   "source": [
    "### Tensordot performance comparison between Blosc2 and Dask+Zarr with persistent storage"
   ]
  },
  {
   "cell_type": "code",
   "execution_count": null,
   "id": "b95648d5a1f442e7",
   "metadata": {
    "ExecuteTime": {
     "end_time": "2025-10-13T05:29:02.508649Z",
     "start_time": "2025-10-13T05:29:01.216017Z"
    }
   },
   "outputs": [],
   "source": [
    "%load_ext memprofiler\n",
    "from time import time\n",
    "import numpy as np\n",
    "import blosc2\n",
    "import dask\n",
    "import dask.array as da\n",
    "import zarr\n",
    "from numcodecs import Blosc\n",
    "import h5py\n",
    "import hdf5plugin\n",
    "# It looks like b2h5py does not significantly accelerates this workload\n",
    "# import b2h5py.auto\n",
    "# assert(b2h5py.is_fast_slicing_enabled())"
   ]
  },
  {
   "cell_type": "code",
   "execution_count": null,
   "id": "27d7d27956970325",
   "metadata": {
    "ExecuteTime": {
     "end_time": "2025-10-13T05:29:03.107498Z",
     "start_time": "2025-10-13T05:29:03.105334Z"
    }
   },
   "outputs": [],
   "source": [
    "# --- Experiment Setup ---\n",
    "N = 600\n",
    "shape_a = (N,) * 3\n",
    "shape_b = (N,) * 3\n",
    "shape_out = (N,) * 2\n",
    "chunks = (150,) * 3\n",
    "chunks_out = (150,) * 2\n",
    "dtype = np.float64\n",
    "cparams = blosc2.CParams(codec=blosc2.Codec.LZ4, clevel=1)\n",
    "compressor = Blosc(cname='lz4', clevel=1, shuffle=Blosc.SHUFFLE)\n",
    "h5compressor = hdf5plugin.Blosc2(cname='lz4', clevel=1, filters=hdf5plugin.Blosc2.SHUFFLE)\n",
    "create = True\n",
    "scheduler = \"single-threaded\" if blosc2.nthreads == 1 else \"threads\""
   ]
  },
  {
   "cell_type": "code",
   "execution_count": null,
   "id": "e8d44803821da66c",
   "metadata": {
    "ExecuteTime": {
     "end_time": "2025-10-13T05:29:03.111527Z",
     "start_time": "2025-10-13T05:29:03.109952Z"
    }
   },
   "outputs": [],
   "source": [
    "# --- Numpy array creation ---\n",
    "if create:\n",
    "    t0 = time()\n",
    "    matrix_numpy = np.linspace(0, 1, N**3).reshape(shape_a)\n",
    "    print(f\"N={N}, Numpy array creation = {time() - t0:.2f} s\")"
   ]
  },
  {
   "cell_type": "code",
   "execution_count": null,
   "id": "bcc8a4eb914d7b9",
   "metadata": {
    "ExecuteTime": {
     "end_time": "2025-10-13T05:29:03.115097Z",
     "start_time": "2025-10-13T05:29:03.113517Z"
    }
   },
   "outputs": [],
   "source": [
    "# --- Blosc2 array creation ---\n",
    "if create:\n",
    "    t0 = time()\n",
    "    matrix_a_blosc2 = blosc2.asarray(matrix_numpy, cparams=cparams, chunks=chunks, urlpath=\"a.b2nd\", mode=\"w\")\n",
    "    matrix_b_blosc2 = blosc2.asarray(matrix_numpy, cparams=cparams, chunks=chunks, urlpath=\"b.b2nd\", mode=\"w\")\n",
    "    print(f\"N={N}, Array creation = {time() - t0:.2f} s\")"
   ]
  },
  {
   "cell_type": "code",
   "execution_count": null,
   "id": "7ef51b03b68daf87",
   "metadata": {
    "ExecuteTime": {
     "end_time": "2025-10-13T05:29:03.121131Z",
     "start_time": "2025-10-13T05:29:03.117815Z"
    }
   },
   "outputs": [],
   "source": [
    "# Re-open the arrays\n",
    "t0 = time()\n",
    "matrix_a_blosc2 = blosc2.open(\"a.b2nd\", mode=\"r\")\n",
    "matrix_b_blosc2 = blosc2.open(\"b.b2nd\", mode=\"r\")\n",
    "print(f\"N={N}, Blosc2 array opening = {time() - t0:.2f} s\")"
   ]
  },
  {
   "cell_type": "markdown",
   "id": "cd22e0f7-93ea-4559-bc63-cc6ae70b40c4",
   "metadata": {
    "ExecuteTime": {
     "end_time": "2025-10-13T05:29:23.021598Z",
     "start_time": "2025-10-13T05:29:13.886484Z"
    }
   },
   "source": [
    "# Tensordot computation with Blosc2"
   ]
  },
  {
   "cell_type": "code",
   "execution_count": null,
   "id": "f6656fa5-5a6e-4d9c-9e86-bd422da1ae35",
   "metadata": {
    "ExecuteTime": {
     "end_time": "2025-10-13T05:29:07.116802Z",
     "start_time": "2025-10-13T05:29:03.126994Z"
    }
   },
   "outputs": [],
   "source": [
    "%%mprof_run 1.Blosc2::1.from_blosc2_to_blosc2\n",
    "# --- Tensordot computation ---\n",
    "for axis in ((0, 1), (1, 2), (2, 0)):\n",
    "    t0 = time()\n",
    "    lexpr = blosc2.lazyexpr(\"tensordot(matrix_a_blosc2, matrix_b_blosc2, axes=(axis, axis))\")\n",
    "    out_blosc2 = lexpr.compute(urlpath=\"out.b2nd\", mode=\"w\", chunks=chunks_out)\n",
    "    print(f\"axes={axis}, Blosc2 Performance = {time() - t0:.2f} s\")"
   ]
  },
  {
   "cell_type": "code",
   "execution_count": null,
   "id": "8b2d0173c2233e8a",
   "metadata": {
    "ExecuteTime": {
     "end_time": "2025-10-13T05:33:48.548609Z",
     "start_time": "2025-10-13T05:33:48.539641Z"
    }
   },
   "outputs": [],
   "source": [
    "# --- HDF5 array creation ---\n",
    "if create:\n",
    "    t0 = time()\n",
    "    f = h5py.File(\"a_b_out.h5\", \"w\")\n",
    "    f.create_dataset(\"a\", data=matrix_numpy, dtype=dtype, chunks=chunks, **h5compressor)\n",
    "    f.create_dataset(\"b\", data=matrix_numpy, dtype=dtype, chunks=chunks, **h5compressor)\n",
    "    f.create_dataset(\"out\", shape=shape_out, dtype=dtype, chunks=chunks_out, **h5compressor)\n",
    "    print(f\"N={N}, HDF5 array creation = {time() - t0:.2f} s\")\n",
    "    f.close()\n",
    "\n",
    "# Re-open the HDF5 arrays\n",
    "t0 = time()\n",
    "f = h5py.File(\"a_b_out.h5\", \"a\")\n",
    "matrix_a_hdf5 = f[\"a\"]\n",
    "matrix_b_hdf5 = f[\"b\"]\n",
    "out_hdf5 = f[\"out\"]"
   ]
  },
  {
   "cell_type": "code",
   "execution_count": null,
   "id": "1f2d7065a801cb23",
   "metadata": {
    "ExecuteTime": {
     "end_time": "2025-10-13T05:29:13.857438Z",
     "start_time": "2025-10-13T05:29:07.134420Z"
    }
   },
   "outputs": [],
   "source": [
    "%%mprof_run 2.Blosc2::2.from_hdf5_to_hdf5\n",
    "# --- Tensordot computation with HDF5 ---\n",
    "for axis in ((0, 1), (1, 2), (2, 0)):\n",
    "    t0 = time()\n",
    "    blosc2.evaluate(\"tensordot(matrix_a_hdf5, matrix_b_hdf5, axes=(axis, axis))\", out=out_hdf5)\n",
    "    print(f\"axes={axis}, HDF5 Performance = {time() - t0:.2f} s\")"
   ]
  },
  {
   "cell_type": "code",
   "execution_count": null,
   "id": "2ef837e4e109515c",
   "metadata": {
    "ExecuteTime": {
     "end_time": "2025-10-13T05:29:13.870072Z",
     "start_time": "2025-10-13T05:29:13.867910Z"
    }
   },
   "outputs": [],
   "source": [
    "# --- Zarr array creation ---\n",
    "if create:\n",
    "    t0 = time()\n",
    "    matrix_a_zarr = zarr.open_array(\"a.zarr\", mode=\"w\", shape=shape_a, chunks=chunks,\n",
    "                                    dtype=dtype, compressor=compressor, zarr_format=2)\n",
    "    matrix_a_zarr[:] = matrix_numpy\n",
    "\n",
    "    matrix_b_zarr = zarr.open_array(\"b.zarr\", mode=\"w\", shape=shape_b, chunks=chunks,\n",
    "                                    dtype=dtype, compressor=compressor, zarr_format=2)\n",
    "    matrix_b_zarr[:] = matrix_numpy\n",
    "    print(f\"N={N}, Zarr array creation = {time() - t0:.2f} s\")"
   ]
  },
  {
   "cell_type": "code",
   "execution_count": null,
   "id": "1185f8c3d421ef0d",
   "metadata": {
    "ExecuteTime": {
     "end_time": "2025-10-13T05:29:13.880901Z",
     "start_time": "2025-10-13T05:29:13.874433Z"
    }
   },
   "outputs": [],
   "source": [
    "# --- Re-open the Zarr arrays ---\n",
    "t0 = time()\n",
    "matrix_a_zarr = zarr.open(\"a.zarr\", mode=\"r\")\n",
    "matrix_b_zarr = zarr.open(\"b.zarr\", mode=\"r\")\n",
    "print(f\"N={N}, Zarr array opening = {time() - t0:.2f} s\")"
   ]
  },
  {
   "cell_type": "code",
   "execution_count": null,
   "id": "c58bca30-70b3-4fc5-9514-7a0909f0cd86",
   "metadata": {
    "ExecuteTime": {
     "end_time": "2025-10-13T05:29:23.021598Z",
     "start_time": "2025-10-13T05:29:13.886484Z"
    }
   },
   "outputs": [],
   "source": [
    "%%mprof_run 2.Blosc2::1.from_zarr_to_zarr\n",
    "# --- Tensordot computation with Blosc2\n",
    "zout2 = zarr.open_array(\"out2.zarr\", mode=\"w\", shape=shape_out, chunks=chunks_out,\n",
    "                        dtype=dtype, compressor=compressor, zarr_format=2)\n",
    "for axis in ((0, 1), (1, 2), (2, 0)):\n",
    "    t0 = time()\n",
    "    blosc2.evaluate(\"tensordot(matrix_a_zarr, matrix_b_zarr, axes=(axis, axis))\", out=zout2)\n",
    "    print(f\"axes={axis}, Blosc2 Performance = {time() - t0:.2f} s\")"
   ]
  },
  {
   "cell_type": "markdown",
   "id": "f6257b5d-be65-415b-a9f5-e32a4c2d07c5",
   "metadata": {
    "ExecuteTime": {
     "end_time": "2025-10-13T05:33:18.928446Z",
     "start_time": "2025-10-13T05:33:07.317979Z"
    }
   },
   "source": [
    "# --- Tensordot computation with Dask"
   ]
  },
  {
   "cell_type": "code",
   "execution_count": null,
   "id": "6097a8dd1f4673be",
   "metadata": {
    "ExecuteTime": {
     "end_time": "2025-10-13T05:34:08.678218Z",
     "start_time": "2025-10-13T05:33:52.684622Z"
    }
   },
   "outputs": [],
   "source": [
    "%%mprof_run 3.Dask::2.from_hdf5_to_hdf5\n",
    "# --- Tensordot computation with Dask (to_zarr) ---\n",
    "matrix_a_dask = da.from_array(matrix_a_hdf5, chunks=chunks)\n",
    "matrix_b_dask = da.from_array(matrix_b_hdf5, chunks=chunks)\n",
    "with dask.config.set(scheduler=scheduler, num_workers=blosc2.nthreads):\n",
    "    for axis in ((0, 1), (1, 2), (2, 0)):\n",
    "        t0 = time()\n",
    "        dexpr = da.tensordot(matrix_a_dask, matrix_b_dask, axes=(axis, axis))\n",
    "        da.to_hdf5('a_b_out.h5', '/out', dexpr, chunks=chunks_out)\n",
    "        print(f\"axes={axis}, Dask Performance = {time() - t0:.2f} s\")\n",
    "f.close()"
   ]
  },
  {
   "cell_type": "code",
   "execution_count": null,
   "id": "d3b54cac-36d6-491f-bd11-d5b86d58697a",
   "metadata": {
    "ExecuteTime": {
     "end_time": "2025-10-13T05:33:18.928446Z",
     "start_time": "2025-10-13T05:33:07.317979Z"
    }
   },
   "outputs": [],
   "source": [
    "%%mprof_run 3.Dask::1.from_zarr_to_zarr\n",
    "# --- Tensordot computation with Dask (to_zarr) ---\n",
    "matrix_a_dask = da.from_zarr(matrix_a_zarr, chunks=chunks)\n",
    "matrix_b_dask = da.from_zarr(matrix_b_zarr, chunks=chunks)\n",
    "zout = zarr.open_array(\"out.zarr\", mode=\"w\", shape=shape_out, chunks=chunks_out,\n",
    "                       dtype=dtype, compressor=compressor, zarr_format=2)\n",
    "with dask.config.set(scheduler=scheduler, num_workers=blosc2.nthreads):\n",
    "    for axis in ((0, 1), (1, 2), (2, 0)):\n",
    "        t0 = time()\n",
    "        dexpr = da.tensordot(matrix_a_dask, matrix_b_dask, axes=(axis, axis))\n",
    "        da.to_zarr(dexpr, zout, chunks=chunks_out)\n",
    "        print(f\"axes={axis}, Dask Performance = {time() - t0:.2f} s\")"
   ]
  },
  {
   "cell_type": "code",
   "execution_count": null,
   "id": "7447c635f3a870b7",
   "metadata": {
    "ExecuteTime": {
     "end_time": "2025-10-13T05:34:12.483993Z",
     "start_time": "2025-10-13T05:34:12.439333Z"
    }
   },
   "outputs": [],
   "source": [
    "%mprof_plot .* -t \"tensordot ({N}, {N}, {N}) -- Number of threads: {blosc2.nthreads}\""
   ]
  },
  {
   "cell_type": "code",
   "execution_count": null,
   "id": "ca55545c401fff05",
   "metadata": {
    "ExecuteTime": {
     "end_time": "2025-10-13T05:29:50.560064Z",
     "start_time": "2025-10-13T05:29:50.558637Z"
    }
   },
   "outputs": [],
   "source": []
  }
 ],
 "metadata": {
  "kernelspec": {
   "display_name": "Python 3 (ipykernel)",
   "language": "python",
   "name": "python3"
  },
  "language_info": {
   "codemirror_mode": {
    "name": "ipython",
    "version": 3
   },
   "file_extension": ".py",
   "mimetype": "text/x-python",
   "name": "python",
   "nbconvert_exporter": "python",
   "pygments_lexer": "ipython3",
   "version": "3.13.5"
  }
 },
 "nbformat": 4,
 "nbformat_minor": 5
}
